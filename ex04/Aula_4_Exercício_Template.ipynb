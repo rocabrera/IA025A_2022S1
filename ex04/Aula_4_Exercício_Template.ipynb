{
 "cells": [
  {
   "cell_type": "markdown",
   "metadata": {
    "colab_type": "text",
    "id": "view-in-github"
   },
   "source": [
    "<a href=\"https://colab.research.google.com/github/rocabrera/IA025A_2022S1/blob/master/ex04/Aula_4_Exerc%C3%ADcio_Template.ipynb\" target=\"_parent\"><img src=\"https://colab.research.google.com/assets/colab-badge.svg\" alt=\"Open In Colab\"/></a>"
   ]
  },
  {
   "cell_type": "markdown",
   "metadata": {
    "id": "J3R2-_YuQT1r"
   },
   "source": [
    "# Regressão Softmax com dados do MNIST utilizando gradiente descendente estocástico por minibatches"
   ]
  },
  {
   "cell_type": "markdown",
   "metadata": {
    "id": "k1Epsl7Lt6Gt"
   },
   "source": [
    "Nome: Rodrigo Cabrera Castaldoni"
   ]
  },
  {
   "cell_type": "markdown",
   "metadata": {
    "id": "WkfGTqMVQT1u"
   },
   "source": [
    "Este exercicío consiste em treinar um modelo de uma única camada linear no MNIST **sem** usar as seguintes funções do pytorch:\n",
    "\n",
    "- torch.nn.Linear\n",
    "- torch.nn.CrossEntropyLoss\n",
    "- torch.nn.NLLLoss\n",
    "- torch.nn.LogSoftmax\n",
    "- torch.optim.SGD\n",
    "- torch.utils.data.Dataloader"
   ]
  },
  {
   "cell_type": "markdown",
   "metadata": {
    "id": "wFNf4RPxQT1w"
   },
   "source": [
    "## Importação das bibliotecas"
   ]
  },
  {
   "cell_type": "code",
   "execution_count": 1,
   "metadata": {
    "ExecuteTime": {
     "end_time": "2018-08-21T14:08:14.033692Z",
     "start_time": "2018-08-21T14:08:11.179981Z"
    },
    "id": "-fLUSHaCQT1x"
   },
   "outputs": [],
   "source": [
    "%matplotlib inline\n",
    "import numpy as np\n",
    "import matplotlib.pyplot as plt\n",
    "import random\n",
    "import torch\n",
    "import torchvision\n",
    "from torchvision.datasets import MNIST"
   ]
  },
  {
   "cell_type": "markdown",
   "metadata": {
    "id": "7_Po22b5ykhK"
   },
   "source": [
    "## Fixando as seeds"
   ]
  },
  {
   "cell_type": "code",
   "execution_count": 2,
   "metadata": {
    "colab": {
     "base_uri": "https://localhost:8080/"
    },
    "id": "y-7WWWgLyoRq",
    "outputId": "a9b96ed7-ef60-40a3-cb70-3bb37ac3e6b1"
   },
   "outputs": [
    {
     "data": {
      "text/plain": [
       "<torch._C.Generator at 0x7fedc9a5f8d0>"
      ]
     },
     "execution_count": 2,
     "metadata": {},
     "output_type": "execute_result"
    }
   ],
   "source": [
    "random.seed(123)\n",
    "np.random.seed(123)\n",
    "torch.manual_seed(123)"
   ]
  },
  {
   "cell_type": "markdown",
   "metadata": {
    "id": "jEMUsfJpQT11"
   },
   "source": [
    "## Dataset e dataloader"
   ]
  },
  {
   "cell_type": "markdown",
   "metadata": {
    "id": "vHoQjDs_QT12"
   },
   "source": [
    "### Definição do tamanho do minibatch"
   ]
  },
  {
   "cell_type": "code",
   "execution_count": 3,
   "metadata": {
    "ExecuteTime": {
     "end_time": "2018-08-21T14:08:20.282474Z",
     "start_time": "2018-08-21T14:08:20.275450Z"
    },
    "id": "tEQYUr4TQT13"
   },
   "outputs": [],
   "source": [
    "batch_size = 50"
   ]
  },
  {
   "cell_type": "markdown",
   "metadata": {
    "id": "dc7Rv_2BQT16"
   },
   "source": [
    "### Carregamento, criação dataset e do dataloader"
   ]
  },
  {
   "cell_type": "code",
   "execution_count": 4,
   "metadata": {
    "ExecuteTime": {
     "end_time": "2018-08-21T14:10:45.430605Z",
     "start_time": "2018-08-21T14:10:04.953051Z"
    },
    "colab": {
     "base_uri": "https://localhost:8080/",
     "height": 457,
     "referenced_widgets": [
      "faa6835705cf49afb42d1e849b16ebab",
      "30fe5a3afeb34bfea2b130ca0865bcb7",
      "56b40e8fea9e4d598f40862eaaaf3057",
      "1ff3405e30b64aaa8fc89441f2d89e6e",
      "b014ab4c42ec4886a4ccab91308cbaff",
      "5230cd7080a04d2f8f81dcbb5823d704",
      "73dbade4290b463eaf33c575bc31fbd8",
      "827b1a9d93c248888185f69d076418cd",
      "30d24d0fbf824702a92e37ada690bf1b",
      "09d4d0294de549fbab87b866b8a1b881",
      "550ce182b5e24749a7493a60e2c5252a",
      "19e89a3ac98240d6b01826f625c905aa",
      "eda6ddbe2ec74b04aeadfdee8724a0ca",
      "2711901742544e23ba2d8280d9d66325",
      "e5cd44368ee04b9f9e79ea8d7cb1abbb",
      "cd8d242c12ae4b92aae052afe35f23d7",
      "76a6fc20792b4f8ea6d2d1e839b54590",
      "879aeca7f12c4d5f81d22c729be2b55e",
      "0478137afe1b49c6abad13f6ac8797f3",
      "d661e733e7a645be9b5f8bf6a3af2a84",
      "f45964e662134f3fb92f49f8010990a1",
      "e81123832b574b609a85add587f565b4",
      "a200b72a12614e5ea55c696e0c7fda80",
      "b253f8cde3104bde9111c88efcc56769",
      "6ba3f6138b73413ba395e6c0113a1006",
      "aced54efb3474f1aa29e686c714dfb42",
      "9357d03a9a384669bf9f69085f101747",
      "9d21def39db5409ea58de051d3e9fdd5",
      "5e2c16aca99f4ad4b56eaf2a79b6ac66",
      "a30d26eb09ff4b49b751c5385d0e22dc",
      "dfca1bcb2270472999a12c53406105e5",
      "b753d5452fcf4dbd83229de879ca33fa",
      "a96d5ac7fdc04882a1d1ed5283cf5ee3",
      "a3dfe446d96248b1a5ae4ae66b87f135",
      "7085fbc2f39841fd8d3c24d635ddcc67",
      "2c438de94f6b43f09bb4a79803704808",
      "bc9ed563b0e94a379d66d4c2baad01a2",
      "fcfe4a4fb6d54992b73b921a4a7662de",
      "7fa593bfe2e2414a8fb5ab04a4d88e16",
      "a06fdf1e945d4847b0a75e98f4ad929f",
      "189d5e54428b44c4aa298bbaf2c4e86e",
      "7f0869d1165a49458b341eb32ada4d0d",
      "9adba12585a94367bbf842227009f5b6",
      "db4f1bfccf3b41ecbfc51f9d1ab2d29f"
     ]
    },
    "id": "G0dEKCn-QT17",
    "outputId": "92180694-96e5-4a4d-c7be-1bbae4c4cae7"
   },
   "outputs": [
    {
     "name": "stdout",
     "output_type": "stream",
     "text": [
      "torch.Size([60000, 28, 28])\n",
      "torch.Size([60000])\n"
     ]
    }
   ],
   "source": [
    "dataset_dir = '../data/'\n",
    "\n",
    "dataset_train_full = MNIST(dataset_dir, train=True, download=True,\n",
    "                           transform=torchvision.transforms.ToTensor())\n",
    "\n",
    "print(dataset_train_full.data.shape)\n",
    "print(dataset_train_full.targets.shape)"
   ]
  },
  {
   "cell_type": "markdown",
   "metadata": {
    "id": "_rOy9ntrQT2D"
   },
   "source": [
    "### Usando apenas 1000 amostras do MNIST\n",
    "\n",
    "Neste exercício utilizaremos 1000 amostras de treinamento."
   ]
  },
  {
   "cell_type": "code",
   "execution_count": 5,
   "metadata": {
    "id": "WNF2XjLBWWe7"
   },
   "outputs": [],
   "source": [
    "indices = torch.randperm(len(dataset_train_full))[:1000]\n",
    "dataset_train = torch.utils.data.Subset(dataset_train_full, indices)"
   ]
  },
  {
   "cell_type": "code",
   "execution_count": 6,
   "metadata": {},
   "outputs": [],
   "source": [
    "class MyDataLoader:\n",
    "    \n",
    "    def __init__(self, dataset:torch.utils.data.Subset, batch_size:int, shuffle:bool=False):\n",
    "        \n",
    "        self.dataset = dataset\n",
    "        self.dataset_size = len(dataset)\n",
    "        self.batch_size = batch_size\n",
    "        self.shuffle = shuffle\n",
    "        self.n_batch = int(np.ceil(self.dataset_size/batch_size))\n",
    "        \n",
    "    def __len__(self):\n",
    "        return self.n_batch      \n",
    "    \n",
    "    def __iter__(self):\n",
    "        self.n = 0\n",
    "        return self\n",
    "    \n",
    "    def __next__(self):\n",
    "        \n",
    "        indices = self.__create_index()\n",
    "        if self.n < self.n_batch:\n",
    "            iter_subset = torch.utils.data.Subset(self.dataset, indices)\n",
    "            images, labels = zip(*[(images, labels) for images, labels in iter_subset])\n",
    "            self.n += 1\n",
    "            return torch.stack(images), torch.Tensor(labels)\n",
    "        else:\n",
    "            raise StopIteration\n",
    "            \n",
    "    def __create_index(self):\n",
    "        \n",
    "        if self.shuffle:\n",
    "            indices = torch.randperm(self.dataset_size)[self.batch_size]\n",
    "        else:\n",
    "            min_index = self.n * self.batch_size\n",
    "            theoretical_max = (self.n + 1) * self.batch_size\n",
    "            max_index = self.dataset_size if theoretical_max > self.dataset_size else theoretical_max\n",
    "            indices = torch.arange(min_index, max_index)\n",
    "        \n",
    "        return indices"
   ]
  },
  {
   "cell_type": "code",
   "execution_count": 7,
   "metadata": {
    "id": "aSNLD2JyA2e-"
   },
   "outputs": [],
   "source": [
    "# Escreva aqui o equivalente do código abaixo:\n",
    "# loader_train = torch.utils.data.DataLoader(dataset_train, batch_size=batch_size, shuffle=False)\n",
    "loader_train = MyDataLoader(dataset=dataset_train, batch_size=batch_size, shuffle=False)"
   ]
  },
  {
   "cell_type": "code",
   "execution_count": 8,
   "metadata": {
    "ExecuteTime": {
     "end_time": "2018-08-21T13:30:35.209157Z",
     "start_time": "2018-08-21T13:30:34.757103Z"
    },
    "id": "w52KGYlIQT2A"
   },
   "outputs": [
    {
     "name": "stdout",
     "output_type": "stream",
     "text": [
      "Número de minibatches de trenamento: 20\n",
      "\n",
      "Dimensões dos dados de um minibatch: torch.Size([50, 1, 28, 28])\n",
      "Valores mínimo e máximo dos pixels:  tensor(0.) tensor(1.)\n",
      "Tipo dos dados das imagens:          <class 'torch.Tensor'>\n",
      "Tipo das classes das imagens:        <class 'torch.Tensor'>\n"
     ]
    }
   ],
   "source": [
    "print('Número de minibatches de trenamento:', len(loader_train))\n",
    "\n",
    "x_train, y_train = next(iter(loader_train))\n",
    "print(\"\\nDimensões dos dados de um minibatch:\", x_train.size())\n",
    "print(\"Valores mínimo e máximo dos pixels: \", torch.min(x_train), torch.max(x_train))\n",
    "print(\"Tipo dos dados das imagens:         \", type(x_train))\n",
    "print(\"Tipo das classes das imagens:       \", type(y_train))"
   ]
  },
  {
   "cell_type": "markdown",
   "metadata": {
    "id": "BQA9Zg7GQT2G"
   },
   "source": [
    "## Modelo"
   ]
  },
  {
   "cell_type": "code",
   "execution_count": 9,
   "metadata": {
    "ExecuteTime": {
     "end_time": "2018-08-20T21:03:10.802708Z",
     "start_time": "2018-08-20T21:03:10.793287Z"
    },
    "id": "_8Eg4h_kQT2H"
   },
   "outputs": [],
   "source": [
    "# Escreva aqui o codigo para criar um modelo cujo o equivalente é: \n",
    "# model = torch.nn.Linear(28*28, 10)\n",
    "# model.load_state_dict(dict(weight=torch.zeros(model.weight.shape), bias=torch.zeros(model.bias.shape)))\n",
    "\n",
    "class Model:\n",
    "    def __init__(self, n_in: int, n_out: int):\n",
    "        # +1 para o bias\n",
    "        self.weights = torch.zeros(n_in+1, n_out, requires_grad=True)\n",
    "        \n",
    "    def __call__(self, x):\n",
    "        # Escreva seu código aqui.\n",
    "        \n",
    "        n_rows = x.shape[0]\n",
    "        ones = torch.ones(n_rows, 1)\n",
    "        new_x = torch.cat([ones,x], dim=1)\n",
    "        return torch.matmul(new_x, self.weights)\n",
    "    \n",
    "    def parameters(self):\n",
    "        return self.weights\n",
    "    \n",
    "model = Model(28*28,10)\n",
    "\n",
    "output = model(x_train.view(-1, 28*28))"
   ]
  },
  {
   "cell_type": "markdown",
   "metadata": {
    "id": "0NHQB4wGQT2K"
   },
   "source": [
    "## Treinamento"
   ]
  },
  {
   "cell_type": "markdown",
   "metadata": {
    "id": "nqs2JhJoQT2L"
   },
   "source": [
    "### Inicialização dos parâmetros"
   ]
  },
  {
   "cell_type": "code",
   "execution_count": 10,
   "metadata": {
    "ExecuteTime": {
     "end_time": "2018-08-20T21:03:14.146259Z",
     "start_time": "2018-08-20T21:03:14.139515Z"
    },
    "id": "oZuYEkn_QT2M"
   },
   "outputs": [],
   "source": [
    "n_epochs = 50\n",
    "lr = 0.1"
   ]
  },
  {
   "cell_type": "markdown",
   "metadata": {
    "id": "tGeMCRw5kQMU"
   },
   "source": [
    "## Definição da Loss\n",
    "\n"
   ]
  },
  {
   "cell_type": "code",
   "execution_count": 11,
   "metadata": {
    "id": "XcqFzpSTkYtk"
   },
   "outputs": [
    {
     "data": {
      "text/plain": [
       "tensor(2.3026, grad_fn=<MeanBackward0>)"
      ]
     },
     "execution_count": 11,
     "metadata": {},
     "output_type": "execute_result"
    }
   ],
   "source": [
    "# Escreva aqui o equivalente de:\n",
    "# criterion = torch.nn.CrossEntropyLoss()\n",
    "\n",
    "class MyCrossEntropyLoss:\n",
    "    \n",
    "    def __call__(self, outputs, y_train):\n",
    "        \n",
    "        one_hot_mapping = torch.eye(outputs.shape[1])\n",
    "        y_train_encoded = torch.stack([one_hot_mapping[int(y_value)] \n",
    "                                       for y_value in y_train])\n",
    "        \n",
    "        logitos = self.__softmax(outputs)\n",
    "        sample_loss = - torch.sum(y_train_encoded * torch.log(logitos), 1)\n",
    "        return torch.mean(sample_loss)\n",
    "    \n",
    "    def __softmax(self, A):\n",
    "        \n",
    "        x = torch.exp(A - A.max(1, keepdims=True).values)\n",
    "        rows_sum = x.sum(axis=1, keepdims=True)\n",
    "        return x / rows_sum # only difference\n",
    "\n",
    "criterion = MyCrossEntropyLoss()"
   ]
  },
  {
   "cell_type": "markdown",
   "metadata": {
    "id": "01BDueU2x4ox"
   },
   "source": [
    "# Definição do Optimizer"
   ]
  },
  {
   "cell_type": "code",
   "execution_count": 12,
   "metadata": {
    "id": "tIlnR_Z8x85O"
   },
   "outputs": [],
   "source": [
    "# Escreva aqui o equivalente de:\n",
    "# optimizer = torch.optim.SGD(model.parameters(), lr)\n",
    "class MySGD:\n",
    "    \n",
    "    def __init__(self, parameters, lr):\n",
    "        self.parameters = parameters\n",
    "        self.lr = lr   \n",
    "        \n",
    "    def step(self):\n",
    "        self.parameters.data = self.parameters.data - self.parameters.grad*self.lr\n",
    "        \n",
    "    def zero_grad(self):\n",
    "        self.parameters.grad = torch.zeros_like(self.parameters.data)\n",
    "        \n",
    "optimizer = MySGD(model.parameters(), lr)"
   ]
  },
  {
   "cell_type": "markdown",
   "metadata": {
    "id": "pmXarXeIQT2O"
   },
   "source": [
    "### Laço de treinamento dos parâmetros"
   ]
  },
  {
   "cell_type": "code",
   "execution_count": 13,
   "metadata": {
    "ExecuteTime": {
     "end_time": "2018-08-20T21:03:40.796410Z",
     "start_time": "2018-08-20T21:03:39.771981Z"
    },
    "id": "L5T_jZZPQT2P"
   },
   "outputs": [
    {
     "name": "stdout",
     "output_type": "stream",
     "text": [
      "Epoch: 0/49 Loss: 1.1979684829711914\n",
      "Epoch: 1/49 Loss: 0.867622971534729\n",
      "Epoch: 2/49 Loss: 0.7226786613464355\n",
      "Epoch: 3/49 Loss: 0.6381281018257141\n",
      "Epoch: 4/49 Loss: 0.5809750556945801\n",
      "Epoch: 5/49 Loss: 0.5387411713600159\n",
      "Epoch: 6/49 Loss: 0.5056463479995728\n",
      "Epoch: 7/49 Loss: 0.4786270260810852\n",
      "Epoch: 8/49 Loss: 0.4558936655521393\n",
      "Epoch: 9/49 Loss: 0.43632179498672485\n",
      "Epoch: 10/49 Loss: 0.4191649556159973\n",
      "Epoch: 11/49 Loss: 0.403904527425766\n",
      "Epoch: 12/49 Loss: 0.3901680111885071\n",
      "Epoch: 13/49 Loss: 0.3776799440383911\n",
      "Epoch: 14/49 Loss: 0.3662315011024475\n",
      "Epoch: 15/49 Loss: 0.35566142201423645\n",
      "Epoch: 16/49 Loss: 0.34584277868270874\n",
      "Epoch: 17/49 Loss: 0.33667415380477905\n",
      "Epoch: 18/49 Loss: 0.32807353138923645\n",
      "Epoch: 19/49 Loss: 0.31997355818748474\n",
      "Epoch: 20/49 Loss: 0.312318354845047\n",
      "Epoch: 21/49 Loss: 0.30506110191345215\n",
      "Epoch: 22/49 Loss: 0.2981624901294708\n",
      "Epoch: 23/49 Loss: 0.2915884852409363\n",
      "Epoch: 24/49 Loss: 0.28531038761138916\n",
      "Epoch: 25/49 Loss: 0.2793029844760895\n",
      "Epoch: 26/49 Loss: 0.2735446095466614\n",
      "Epoch: 27/49 Loss: 0.2680158317089081\n",
      "Epoch: 28/49 Loss: 0.26270008087158203\n",
      "Epoch: 29/49 Loss: 0.25758233666419983\n",
      "Epoch: 30/49 Loss: 0.25264933705329895\n",
      "Epoch: 31/49 Loss: 0.24788931012153625\n",
      "Epoch: 32/49 Loss: 0.24329158663749695\n",
      "Epoch: 33/49 Loss: 0.23884668946266174\n",
      "Epoch: 34/49 Loss: 0.23454591631889343\n",
      "Epoch: 35/49 Loss: 0.23038142919540405\n",
      "Epoch: 36/49 Loss: 0.22634631395339966\n",
      "Epoch: 37/49 Loss: 0.22243404388427734\n",
      "Epoch: 38/49 Loss: 0.2186385691165924\n",
      "Epoch: 39/49 Loss: 0.21495485305786133\n",
      "Epoch: 40/49 Loss: 0.21137763559818268\n",
      "Epoch: 41/49 Loss: 0.20790252089500427\n",
      "Epoch: 42/49 Loss: 0.20452532172203064\n",
      "Epoch: 43/49 Loss: 0.20124192535877228\n",
      "Epoch: 44/49 Loss: 0.19804897904396057\n",
      "Epoch: 45/49 Loss: 0.19494296610355377\n",
      "Epoch: 46/49 Loss: 0.1919206976890564\n",
      "Epoch: 47/49 Loss: 0.1889793425798416\n",
      "Epoch: 48/49 Loss: 0.1861160844564438\n",
      "Epoch: 49/49 Loss: 0.1833282709121704\n"
     ]
    }
   ],
   "source": [
    "epochs = []\n",
    "loss_history = []\n",
    "loss_epoch_end = []\n",
    "total_trained_samples = 0\n",
    "for i in range(n_epochs):\n",
    "    # Substitua aqui o loader_train de acordo com sua implementação do dataloader.\n",
    "    for x_train, y_train in loader_train:\n",
    "        # Transforma a entrada para uma dimensão\n",
    "        inputs = x_train.view(-1, 28 * 28)\n",
    "        # predict da rede\n",
    "        outputs = model(inputs)\n",
    "        # calcula a perda\n",
    "        loss = criterion(outputs, y_train)\n",
    "        # zero, backpropagation, ajusta parâmetros pelo gradiente descendente\n",
    "        # Escreva aqui o código cujo o resultado é equivalente às 3 linhas abaixo:\n",
    "        optimizer.zero_grad()\n",
    "        loss.backward()\n",
    "        optimizer.step()\n",
    "\n",
    "        total_trained_samples += x_train.size(0)\n",
    "        epochs.append(total_trained_samples / len(dataset_train))\n",
    "        loss_history.append(loss.item())\n",
    "\n",
    "    loss_epoch_end.append(loss.item())\n",
    "    print(f'Epoch: {i:d}/{n_epochs - 1:d} Loss: {loss.item()}')\n"
   ]
  },
  {
   "cell_type": "markdown",
   "metadata": {
    "id": "1dYK0nqsQT2U"
   },
   "source": [
    "### Visualizando gráfico de perda durante o treinamento"
   ]
  },
  {
   "cell_type": "code",
   "execution_count": 14,
   "metadata": {
    "ExecuteTime": {
     "end_time": "2018-08-20T21:03:52.026752Z",
     "start_time": "2018-08-20T21:03:51.756518Z"
    },
    "id": "LIyUI6AHQT2V"
   },
   "outputs": [
    {
     "data": {
      "text/plain": [
       "Text(0.5, 0, 'época')"
      ]
     },
     "execution_count": 14,
     "metadata": {},
     "output_type": "execute_result"
    },
    {
     "data": {
      "image/png": "[encoded data removed]",
      "text/plain": [
       "<Figure size 432x288 with 1 Axes>"
      ]
     },
     "metadata": {
      "needs_background": "light"
     },
     "output_type": "display_data"
    }
   ],
   "source": [
    "plt.plot(epochs, loss_history)\n",
    "plt.xlabel('época')"
   ]
  },
  {
   "cell_type": "markdown",
   "metadata": {
    "id": "rLL-GQlKQT2Y"
   },
   "source": [
    "### Visualização usual da perda, somente no final de cada minibatch"
   ]
  },
  {
   "cell_type": "code",
   "execution_count": 15,
   "metadata": {
    "ExecuteTime": {
     "end_time": "2018-08-20T21:03:55.246851Z",
     "start_time": "2018-08-20T21:03:54.994428Z"
    },
    "id": "w38EtNxhQT2Z"
   },
   "outputs": [
    {
     "data": {
      "text/plain": [
       "Text(0.5, 0, 'época')"
      ]
     },
     "execution_count": 15,
     "metadata": {},
     "output_type": "execute_result"
    },
    {
     "data": {
      "image/png": "[encoded data removed]",
      "text/plain": [
       "<Figure size 432x288 with 1 Axes>"
      ]
     },
     "metadata": {
      "needs_background": "light"
     },
     "output_type": "display_data"
    }
   ],
   "source": [
    "n_batches_train = len(loader_train)\n",
    "plt.plot(epochs[::n_batches_train], loss_history[::n_batches_train])\n",
    "plt.xlabel('época')"
   ]
  },
  {
   "cell_type": "code",
   "execution_count": 16,
   "metadata": {
    "ExecuteTime": {
     "end_time": "2018-08-20T21:03:48.786969Z",
     "start_time": "2018-08-20T21:03:48.781787Z"
    },
    "id": "PiuMsjYtQT2R"
   },
   "outputs": [],
   "source": [
    "# Assert do histórico de losses\n",
    "target_loss_epoch_end = np.array([\n",
    "    1.1979684829711914,\n",
    "    0.867622971534729,\n",
    "    0.7226786613464355,\n",
    "    0.6381281018257141,\n",
    "    0.5809749960899353,\n",
    "    0.5387411713600159,\n",
    "    0.5056464076042175,\n",
    "    0.4786270558834076,\n",
    "    0.4558936357498169,\n",
    "    0.4363219141960144,\n",
    "    0.4191650450229645,\n",
    "    0.4039044976234436,\n",
    "    0.3901679515838623,\n",
    "    0.3776799440383911,\n",
    "    0.3662314713001251,\n",
    "    0.35566139221191406,\n",
    "    0.34584277868270874,\n",
    "    0.33667415380477905,\n",
    "    0.32807353138923645,\n",
    "    0.31997355818748474,\n",
    "    0.312318354845047,\n",
    "    0.3050611615180969,\n",
    "    0.29816246032714844,\n",
    "    0.29158851504325867,\n",
    "    0.28531041741371155,\n",
    "    0.2793029546737671,\n",
    "    0.273544579744339,\n",
    "    0.2680158317089081,\n",
    "    0.26270008087158203,\n",
    "    0.2575823664665222,\n",
    "    0.25264936685562134,\n",
    "    0.24788929522037506,\n",
    "    0.24329163134098053,\n",
    "    0.23884665966033936,\n",
    "    0.23454584181308746,\n",
    "    0.23038141429424286,\n",
    "    0.22634628415107727,\n",
    "    0.22243399918079376,\n",
    "    0.2186385989189148,\n",
    "    0.21495483815670013,\n",
    "    0.21137762069702148,\n",
    "    0.20790249109268188,\n",
    "    0.20452524721622467,\n",
    "    0.20124195516109467,\n",
    "    0.19804897904396057,\n",
    "    0.1949428766965866,\n",
    "    0.19192075729370117,\n",
    "    0.188979372382164,\n",
    "    0.18611609935760498,\n",
    "    0.1833282858133316])\n",
    "\n",
    "assert np.allclose(np.array(loss_epoch_end), target_loss_epoch_end, atol=1e-6)"
   ]
  },
  {
   "cell_type": "markdown",
   "metadata": {
    "id": "fptnTktx_1rh"
   },
   "source": [
    "## Exercício "
   ]
  },
  {
   "cell_type": "code",
   "execution_count": 17,
   "metadata": {
    "id": "IzH8iMGt_1Rr"
   },
   "outputs": [],
   "source": [
    "# Escreva o código aqui:\n",
    "all_data = MyDataLoader(dataset=dataset_train, batch_size=len(dataset_train), shuffle=False)\n",
    "x_train, y_train = next(iter(all_data))\n",
    "outputs = model(x_train.view(-1,28*28))"
   ]
  },
  {
   "cell_type": "code",
   "execution_count": 18,
   "metadata": {},
   "outputs": [],
   "source": [
    "logitos = criterion._MyCrossEntropyLoss__softmax(outputs)"
   ]
  },
  {
   "cell_type": "code",
   "execution_count": 19,
   "metadata": {
    "tags": []
   },
   "outputs": [],
   "source": [
    "max_values = torch.max(logitos,1)\n",
    "y_pred_probas = max_values.values\n",
    "y_pred = max_values.indices\n",
    "sample_number = torch.arange(0,1000)"
   ]
  },
  {
   "cell_type": "markdown",
   "metadata": {},
   "source": [
    "**Escreva um código que responda às seguintes perguntas:**\n"
   ]
  },
  {
   "cell_type": "markdown",
   "metadata": {},
   "source": [
    "**Qual é a amostra classificada corretamente, com maior probabilidade?**"
   ]
  },
  {
   "cell_type": "code",
   "execution_count": 20,
   "metadata": {},
   "outputs": [
    {
     "name": "stdout",
     "output_type": "stream",
     "text": [
      "A amostra classificada corretamente com maior probabilidade: 183 com probabilidade de 0.9999896287918091\n",
      "y_pred: 2\n",
      "y_true: 2.0\n"
     ]
    },
    {
     "data": {
      "image/png": "[encoded data removed]",
      "text/plain": [
       "<Figure size 432x288 with 1 Axes>"
      ]
     },
     "metadata": {
      "needs_background": "light"
     },
     "output_type": "display_data"
    }
   ],
   "source": [
    "correct_classified = y_pred == y_train\n",
    "most_correct_sample = int(torch.argmax(y_pred_probas[correct_classified]))\n",
    "indice_sample = sample_number[correct_classified][most_correct_sample]\n",
    "print(f\"A amostra classificada corretamente com maior probabilidade: {indice_sample} com probabilidade de {y_pred_probas[indice_sample]}\")\n",
    "print(f\"y_pred: {y_pred[indice_sample]}\")\n",
    "print(f\"y_true: {y_train[indice_sample]}\")\n",
    "plt.imshow(x_train[indice_sample].squeeze(),cmap=\"gray\")\n",
    "plt.show()"
   ]
  },
  {
   "cell_type": "markdown",
   "metadata": {},
   "source": [
    "**Qual é a amostra classificada corretamente, com menor probabilidade?**"
   ]
  },
  {
   "cell_type": "code",
   "execution_count": 21,
   "metadata": {},
   "outputs": [
    {
     "name": "stdout",
     "output_type": "stream",
     "text": [
      "A amostra classificada corretamente com menor probabilidade: 532 com probabilidade de 0.33532676100730896\n",
      "y_pred: 2\n",
      "y_true: 2.0\n"
     ]
    },
    {
     "data": {
      "image/png": "[encoded data removed]",
      "text/plain": [
       "<Figure size 432x288 with 1 Axes>"
      ]
     },
     "metadata": {
      "needs_background": "light"
     },
     "output_type": "display_data"
    }
   ],
   "source": [
    "most_correct_sample = int(torch.argmin(y_pred_probas[correct_classified]))\n",
    "indice_sample = sample_number[correct_classified][most_correct_sample]\n",
    "print(f\"A amostra classificada corretamente com menor probabilidade: {indice_sample} com probabilidade de {y_pred_probas[indice_sample]}\")\n",
    "print(f\"y_pred: {y_pred[indice_sample]}\")\n",
    "print(f\"y_true: {y_train[indice_sample]}\")\n",
    "plt.imshow(x_train[indice_sample].squeeze(),cmap=\"gray\")\n",
    "plt.show()"
   ]
  },
  {
   "cell_type": "markdown",
   "metadata": {},
   "source": [
    "**Qual é a amostra classificada erradamente, com maior probabilidade?**"
   ]
  },
  {
   "cell_type": "code",
   "execution_count": 22,
   "metadata": {},
   "outputs": [
    {
     "name": "stdout",
     "output_type": "stream",
     "text": [
      "A amostra classificada erroneamente com maior probabilidade: 271 com probabilidade de 0.8530497550964355\n",
      "y_pred: 8\n",
      "y_true: 3.0\n"
     ]
    },
    {
     "data": {
      "image/png": "[encoded data removed]",
      "text/plain": [
       "<Figure size 432x288 with 1 Axes>"
      ]
     },
     "metadata": {
      "needs_background": "light"
     },
     "output_type": "display_data"
    }
   ],
   "source": [
    "correct_classified = y_pred != y_train\n",
    "most_correct_sample = int(torch.argmax(y_pred_probas[correct_classified]))\n",
    "indice_sample = sample_number[correct_classified][most_correct_sample]\n",
    "print(f\"A amostra classificada erroneamente com maior probabilidade: {indice_sample} com probabilidade de {y_pred_probas[indice_sample]}\")\n",
    "print(f\"y_pred: {y_pred[indice_sample]}\")\n",
    "print(f\"y_true: {y_train[indice_sample]}\")\n",
    "plt.imshow(x_train[indice_sample].squeeze(),cmap=\"gray\")\n",
    "plt.show()"
   ]
  },
  {
   "cell_type": "markdown",
   "metadata": {},
   "source": [
    "Qual é a amostra classificada erradamente, com menor probabilidade?"
   ]
  },
  {
   "cell_type": "code",
   "execution_count": 23,
   "metadata": {},
   "outputs": [
    {
     "name": "stdout",
     "output_type": "stream",
     "text": [
      "A amostra classificada erroneamente com menor probabilidade: 68 com probabilidade de 0.2892139256000519\n",
      "y_pred: 8\n",
      "y_true: 5.0\n"
     ]
    },
    {
     "data": {
      "image/png": "[encoded data removed]",
      "text/plain": [
       "<Figure size 432x288 with 1 Axes>"
      ]
     },
     "metadata": {
      "needs_background": "light"
     },
     "output_type": "display_data"
    }
   ],
   "source": [
    "most_correct_sample = int(torch.argmin(y_pred_probas[correct_classified]))\n",
    "indice_sample = sample_number[correct_classified][most_correct_sample]\n",
    "print(f\"A amostra classificada erroneamente com menor probabilidade: {indice_sample} com probabilidade de {y_pred_probas[indice_sample]}\")\n",
    "print(f\"y_pred: {y_pred[indice_sample]}\")\n",
    "print(f\"y_true: {y_train[indice_sample]}\")\n",
    "plt.imshow(x_train[indice_sample].squeeze(),cmap=\"gray\")\n",
    "plt.show()"
   ]
  },
  {
   "cell_type": "markdown",
   "metadata": {
    "id": "0xmj1GWXUoNs"
   },
   "source": [
    "## Exercício Bonus\n",
    "\n",
    "Implemente um dataloader que aceite como parâmetro de entrada a distribuição probabilidade das classes que deverão compor um batch.\n",
    "Por exemplo, se a distribuição de probabilidade passada como entrada for:\n",
    "\n",
    "`[0.01, 0.01, 0.72, 0.2, 0.01, 0.01, 0.01, 0.01, 0.01, 0.01]`\n",
    "\n",
    "Em média, 72% dos exemplos do batch deverão ser da classe 2, 20% deverão ser da classe 3, e os demais deverão ser das outras classes.\n",
    "\n",
    "Mostre também que sua implementação está correta.\n"
   ]
  },
  {
   "cell_type": "code",
   "execution_count": 24,
   "metadata": {},
   "outputs": [],
   "source": [
    "import random\n",
    "import pandas as pd\n",
    "\n",
    "\n",
    "class MyCustomDataLoader:\n",
    "\n",
    "    \"\"\"\n",
    "    Nesta implementação uma mesma imagem pode aparecer 2 vezes no mesmo batch.\n",
    "    \"\"\"\n",
    "    \n",
    "    def __init__(self, dataset:torch.utils.data.Subset, batch_size:int, shuffle:bool=False):\n",
    "        \n",
    "        self.dataset = dataset\n",
    "        self.dataset_size = len(dataset)\n",
    "        self.batch_size = batch_size\n",
    "        self.shuffle = shuffle\n",
    "        self.n_batch = int(np.ceil(self.dataset_size/batch_size))\n",
    "        self.__prepare_custom_batch()\n",
    "        \n",
    "    def __prepare_custom_batch(self):\n",
    "        self.n_classes = 10\n",
    "        self.proba_list = [0.01, 0.01, 0.72, 0.2, 0.01, 0.01, 0.01, 0.01, 0.01, 0.01]\n",
    "        self.output_classes_structure = {i:[] for i in range(self.n_classes)}\n",
    "        \n",
    "        for images, label in self.dataset:\n",
    "            self.output_classes_structure[label].append(images)\n",
    "            \n",
    "    def __len__(self):\n",
    "        return self.n_batch      \n",
    "    \n",
    "    def __iter__(self):\n",
    "        self.n = 0\n",
    "        return self\n",
    "         \n",
    "    def __next__(self):\n",
    "    \n",
    "        if self.n < self.n_batch:\n",
    "\n",
    "            weighted_labels = random.choices(population=list(self.output_classes_structure.keys()),\n",
    "                                             weights=self.proba_list,\n",
    "                                             k=self.batch_size)\n",
    "            images, labels = zip(*[(random.sample(self.output_classes_structure[label], 1)[0], label) for label in weighted_labels])\n",
    "        \n",
    "            self.n += 1\n",
    "            \n",
    "            return torch.stack(images), torch.Tensor(labels)\n",
    "        \n",
    "        else:\n",
    "            raise StopIteration"
   ]
  },
  {
   "cell_type": "code",
   "execution_count": 25,
   "metadata": {},
   "outputs": [
    {
     "name": "stdout",
     "output_type": "stream",
     "text": [
      "Batch número 0\n",
      "2.0    0.74\n",
      "3.0    0.24\n",
      "0.0    0.02\n",
      "dtype: float64\n",
      "################################\n",
      "Batch número 1\n",
      "2.0    0.70\n",
      "3.0    0.22\n",
      "5.0    0.04\n",
      "0.0    0.02\n",
      "6.0    0.02\n",
      "dtype: float64\n",
      "################################\n",
      "Batch número 2\n",
      "2.0    0.68\n",
      "3.0    0.28\n",
      "7.0    0.02\n",
      "4.0    0.02\n",
      "dtype: float64\n",
      "################################\n"
     ]
    }
   ],
   "source": [
    "# podemos ver que 2 é majoritário, seguido de 3\n",
    "aux = 0\n",
    "custom_loader_train = MyCustomDataLoader(dataset=dataset_train, batch_size=batch_size, shuffle=False)\n",
    "for idx, (images, labels) in enumerate(custom_loader_train):\n",
    "    print(f\"Batch número {idx}\")\n",
    "    print(pd.Series(labels.tolist()).value_counts(normalize=True))\n",
    "    print(\"#\"*32)\n",
    "    if aux >= 2:\n",
    "        break\n",
    "    aux+=1"
   ]
  },
  {
   "cell_type": "code",
   "execution_count": 26,
   "metadata": {},
   "outputs": [
    {
     "name": "stdout",
     "output_type": "stream",
     "text": [
      "Batch número 0\n",
      "2.0    0.7150\n",
      "3.0    0.2075\n",
      "8.0    0.0150\n",
      "7.0    0.0150\n",
      "0.0    0.0125\n",
      "4.0    0.0100\n",
      "5.0    0.0100\n",
      "1.0    0.0075\n",
      "9.0    0.0050\n",
      "6.0    0.0025\n",
      "dtype: float64\n",
      "################################\n",
      "Batch número 1\n",
      "2.0    0.6975\n",
      "3.0    0.2200\n",
      "4.0    0.0150\n",
      "6.0    0.0150\n",
      "7.0    0.0150\n",
      "5.0    0.0100\n",
      "0.0    0.0100\n",
      "1.0    0.0100\n",
      "8.0    0.0075\n",
      "dtype: float64\n",
      "################################\n",
      "Batch número 2\n",
      "2.0    0.7325\n",
      "3.0    0.1975\n",
      "1.0    0.0150\n",
      "8.0    0.0125\n",
      "6.0    0.0100\n",
      "9.0    0.0100\n",
      "7.0    0.0100\n",
      "0.0    0.0075\n",
      "4.0    0.0025\n",
      "5.0    0.0025\n",
      "dtype: float64\n",
      "################################\n"
     ]
    }
   ],
   "source": [
    "# Se aumentarmos o batch as probabilidades da classe se aproximam da distribuição passada.\n",
    "aux = 0\n",
    "custom_loader_train = MyCustomDataLoader(dataset=dataset_train, batch_size=400, shuffle=False)\n",
    "for idx, (images, labels) in enumerate(custom_loader_train):\n",
    "    print(f\"Batch número {idx}\")\n",
    "    print(pd.Series(labels.tolist()).value_counts(normalize=True))\n",
    "    print(\"#\"*32)\n",
    "    if aux >= 2:\n",
    "        break\n",
    "    aux+=1"
   ]
  }
 ],
 "metadata": {
  "anaconda-cloud": {},
  "colab": {
   "collapsed_sections": [],
   "include_colab_link": true,
   "name": "Aula 4 - Exercício - Template",
   "provenance": []
  },
  "kernelspec": {
   "display_name": "venv_playground",
   "language": "python",
   "name": "venv_playground"
  },
  "language_info": {
   "codemirror_mode": {
    "name": "ipython",
    "version": 3
   },
   "file_extension": ".py",
   "mimetype": "text/x-python",
   "name": "python",
   "nbconvert_exporter": "python",
   "pygments_lexer": "ipython3",
   "version": "3.9.9"
  },
  "toc": {
   "nav_menu": {
    "height": "318px",
    "width": "252px"
   },
   "number_sections": true,
   "sideBar": true,
   "skip_h1_title": false,
   "toc_cell": false,
   "toc_position": {},
   "toc_section_display": "block",
   "toc_window_display": false
  },
  "widgets": {
   "application/vnd.jupyter.widget-state+json": {
    "0478137afe1b49c6abad13f6ac8797f3": {
     "model_module": "@jupyter-widgets/base",
     "model_module_version": "1.2.0",
     "model_name": "LayoutModel",
     "state": {
      "_model_module": "@jupyter-widgets/base",
      "_model_module_version": "1.2.0",
      "_model_name": "LayoutModel",
      "_view_count": null,
      "_view_module": "@jupyter-widgets/base",
      "_view_module_version": "1.2.0",
      "_view_name": "LayoutView",
      "align_content": null,
      "align_items": null,
      "align_self": null,
      "border": null,
      "bottom": null,
      "display": null,
      "flex": null,
      "flex_flow": null,
      "grid_area": null,
      "grid_auto_columns": null,
      "grid_auto_flow": null,
      "grid_auto_rows": null,
      "grid_column": null,
      "grid_gap": null,
      "grid_row": null,
      "grid_template_areas": null,
      "grid_template_columns": null,
      "grid_template_rows": null,
      "height": null,
      "justify_content": null,
      "justify_items": null,
      "left": null,
      "margin": null,
      "max_height": null,
      "max_width": null,
      "min_height": null,
      "min_width": null,
      "object_fit": null,
      "object_position": null,
      "order": null,
      "overflow": null,
      "overflow_x": null,
      "overflow_y": null,
      "padding": null,
      "right": null,
      "top": null,
      "visibility": null,
      "width": null
     }
    },
    "09d4d0294de549fbab87b866b8a1b881": {
     "model_module": "@jupyter-widgets/base",
     "model_module_version": "1.2.0",
     "model_name": "LayoutModel",
     "state": {
      "_model_module": "@jupyter-widgets/base",
      "_model_module_version": "1.2.0",
      "_model_name": "LayoutModel",
      "_view_count": null,
      "_view_module": "@jupyter-widgets/base",
      "_view_module_version": "1.2.0",
      "_view_name": "LayoutView",
      "align_content": null,
      "align_items": null,
      "align_self": null,
      "border": null,
      "bottom": null,
      "display": null,
      "flex": null,
      "flex_flow": null,
      "grid_area": null,
      "grid_auto_columns": null,
      "grid_auto_flow": null,
      "grid_auto_rows": null,
      "grid_column": null,
      "grid_gap": null,
      "grid_row": null,
      "grid_template_areas": null,
      "grid_template_columns": null,
      "grid_template_rows": null,
      "height": null,
      "justify_content": null,
      "justify_items": null,
      "left": null,
      "margin": null,
      "max_height": null,
      "max_width": null,
      "min_height": null,
      "min_width": null,
      "object_fit": null,
      "object_position": null,
      "order": null,
      "overflow": null,
      "overflow_x": null,
      "overflow_y": null,
      "padding": null,
      "right": null,
      "top": null,
      "visibility": null,
      "width": null
     }
    },
    "189d5e54428b44c4aa298bbaf2c4e86e": {
     "model_module": "@jupyter-widgets/base",
     "model_module_version": "1.2.0",
     "model_name": "LayoutModel",
     "state": {
      "_model_module": "@jupyter-widgets/base",
      "_model_module_version": "1.2.0",
      "_model_name": "LayoutModel",
      "_view_count": null,
      "_view_module": "@jupyter-widgets/base",
      "_view_module_version": "1.2.0",
      "_view_name": "LayoutView",
      "align_content": null,
      "align_items": null,
      "align_self": null,
      "border": null,
      "bottom": null,
      "display": null,
      "flex": null,
      "flex_flow": null,
      "grid_area": null,
      "grid_auto_columns": null,
      "grid_auto_flow": null,
      "grid_auto_rows": null,
      "grid_column": null,
      "grid_gap": null,
      "grid_row": null,
      "grid_template_areas": null,
      "grid_template_columns": null,
      "grid_template_rows": null,
      "height": null,
      "justify_content": null,
      "justify_items": null,
      "left": null,
      "margin": null,
      "max_height": null,
      "max_width": null,
      "min_height": null,
      "min_width": null,
      "object_fit": null,
      "object_position": null,
      "order": null,
      "overflow": null,
      "overflow_x": null,
      "overflow_y": null,
      "padding": null,
      "right": null,
      "top": null,
      "visibility": null,
      "width": null
     }
    },
    "19e89a3ac98240d6b01826f625c905aa": {
     "model_module": "@jupyter-widgets/controls",
     "model_module_version": "1.5.0",
     "model_name": "HBoxModel",
     "state": {
      "_dom_classes": [],
      "_model_module": "@jupyter-widgets/controls",
      "_model_module_version": "1.5.0",
      "_model_name": "HBoxModel",
      "_view_count": null,
      "_view_module": "@jupyter-widgets/controls",
      "_view_module_version": "1.5.0",
      "_view_name": "HBoxView",
      "box_style": "",
      "children": [
       "IPY_MODEL_eda6ddbe2ec74b04aeadfdee8724a0ca",
       "IPY_MODEL_2711901742544e23ba2d8280d9d66325",
       "IPY_MODEL_e5cd44368ee04b9f9e79ea8d7cb1abbb"
      ],
      "layout": "IPY_MODEL_cd8d242c12ae4b92aae052afe35f23d7"
     }
    },
    "1ff3405e30b64aaa8fc89441f2d89e6e": {
     "model_module": "@jupyter-widgets/controls",
     "model_module_version": "1.5.0",
     "model_name": "HTMLModel",
     "state": {
      "_dom_classes": [],
      "_model_module": "@jupyter-widgets/controls",
      "_model_module_version": "1.5.0",
      "_model_name": "HTMLModel",
      "_view_count": null,
      "_view_module": "@jupyter-widgets/controls",
      "_view_module_version": "1.5.0",
      "_view_name": "HTMLView",
      "description": "",
      "description_tooltip": null,
      "layout": "IPY_MODEL_09d4d0294de549fbab87b866b8a1b881",
      "placeholder": "​",
      "style": "IPY_MODEL_550ce182b5e24749a7493a60e2c5252a",
      "value": " 9913344/? [00:00&lt;00:00, 33829216.08it/s]"
     }
    },
    "2711901742544e23ba2d8280d9d66325": {
     "model_module": "@jupyter-widgets/controls",
     "model_module_version": "1.5.0",
     "model_name": "FloatProgressModel",
     "state": {
      "_dom_classes": [],
      "_model_module": "@jupyter-widgets/controls",
      "_model_module_version": "1.5.0",
      "_model_name": "FloatProgressModel",
      "_view_count": null,
      "_view_module": "@jupyter-widgets/controls",
      "_view_module_version": "1.5.0",
      "_view_name": "ProgressView",
      "bar_style": "success",
      "description": "",
      "description_tooltip": null,
      "layout": "IPY_MODEL_0478137afe1b49c6abad13f6ac8797f3",
      "max": 28881,
      "min": 0,
      "orientation": "horizontal",
      "style": "IPY_MODEL_d661e733e7a645be9b5f8bf6a3af2a84",
      "value": 28881
     }
    },
    "2c438de94f6b43f09bb4a79803704808": {
     "model_module": "@jupyter-widgets/controls",
     "model_module_version": "1.5.0",
     "model_name": "FloatProgressModel",
     "state": {
      "_dom_classes": [],
      "_model_module": "@jupyter-widgets/controls",
      "_model_module_version": "1.5.0",
      "_model_name": "FloatProgressModel",
      "_view_count": null,
      "_view_module": "@jupyter-widgets/controls",
      "_view_module_version": "1.5.0",
      "_view_name": "ProgressView",
      "bar_style": "success",
      "description": "",
      "description_tooltip": null,
      "layout": "IPY_MODEL_189d5e54428b44c4aa298bbaf2c4e86e",
      "max": 4542,
      "min": 0,
      "orientation": "horizontal",
      "style": "IPY_MODEL_7f0869d1165a49458b341eb32ada4d0d",
      "value": 4542
     }
    },
    "30d24d0fbf824702a92e37ada690bf1b": {
     "model_module": "@jupyter-widgets/controls",
     "model_module_version": "1.5.0",
     "model_name": "ProgressStyleModel",
     "state": {
      "_model_module": "@jupyter-widgets/controls",
      "_model_module_version": "1.5.0",
      "_model_name": "ProgressStyleModel",
      "_view_count": null,
      "_view_module": "@jupyter-widgets/base",
      "_view_module_version": "1.2.0",
      "_view_name": "StyleView",
      "bar_color": null,
      "description_width": ""
     }
    },
    "30fe5a3afeb34bfea2b130ca0865bcb7": {
     "model_module": "@jupyter-widgets/controls",
     "model_module_version": "1.5.0",
     "model_name": "HTMLModel",
     "state": {
      "_dom_classes": [],
      "_model_module": "@jupyter-widgets/controls",
      "_model_module_version": "1.5.0",
      "_model_name": "HTMLModel",
      "_view_count": null,
      "_view_module": "@jupyter-widgets/controls",
      "_view_module_version": "1.5.0",
      "_view_name": "HTMLView",
      "description": "",
      "description_tooltip": null,
      "layout": "IPY_MODEL_5230cd7080a04d2f8f81dcbb5823d704",
      "placeholder": "​",
      "style": "IPY_MODEL_73dbade4290b463eaf33c575bc31fbd8",
      "value": ""
     }
    },
    "5230cd7080a04d2f8f81dcbb5823d704": {
     "model_module": "@jupyter-widgets/base",
     "model_module_version": "1.2.0",
     "model_name": "LayoutModel",
     "state": {
      "_model_module": "@jupyter-widgets/base",
      "_model_module_version": "1.2.0",
      "_model_name": "LayoutModel",
      "_view_count": null,
      "_view_module": "@jupyter-widgets/base",
      "_view_module_version": "1.2.0",
      "_view_name": "LayoutView",
      "align_content": null,
      "align_items": null,
      "align_self": null,
      "border": null,
      "bottom": null,
      "display": null,
      "flex": null,
      "flex_flow": null,
      "grid_area": null,
      "grid_auto_columns": null,
      "grid_auto_flow": null,
      "grid_auto_rows": null,
      "grid_column": null,
      "grid_gap": null,
      "grid_row": null,
      "grid_template_areas": null,
      "grid_template_columns": null,
      "grid_template_rows": null,
      "height": null,
      "justify_content": null,
      "justify_items": null,
      "left": null,
      "margin": null,
      "max_height": null,
      "max_width": null,
      "min_height": null,
      "min_width": null,
      "object_fit": null,
      "object_position": null,
      "order": null,
      "overflow": null,
      "overflow_x": null,
      "overflow_y": null,
      "padding": null,
      "right": null,
      "top": null,
      "visibility": null,
      "width": null
     }
    },
    "550ce182b5e24749a7493a60e2c5252a": {
     "model_module": "@jupyter-widgets/controls",
     "model_module_version": "1.5.0",
     "model_name": "DescriptionStyleModel",
     "state": {
      "_model_module": "@jupyter-widgets/controls",
      "_model_module_version": "1.5.0",
      "_model_name": "DescriptionStyleModel",
      "_view_count": null,
      "_view_module": "@jupyter-widgets/base",
      "_view_module_version": "1.2.0",
      "_view_name": "StyleView",
      "description_width": ""
     }
    },
    "56b40e8fea9e4d598f40862eaaaf3057": {
     "model_module": "@jupyter-widgets/controls",
     "model_module_version": "1.5.0",
     "model_name": "FloatProgressModel",
     "state": {
      "_dom_classes": [],
      "_model_module": "@jupyter-widgets/controls",
      "_model_module_version": "1.5.0",
      "_model_name": "FloatProgressModel",
      "_view_count": null,
      "_view_module": "@jupyter-widgets/controls",
      "_view_module_version": "1.5.0",
      "_view_name": "ProgressView",
      "bar_style": "success",
      "description": "",
      "description_tooltip": null,
      "layout": "IPY_MODEL_827b1a9d93c248888185f69d076418cd",
      "max": 9912422,
      "min": 0,
      "orientation": "horizontal",
      "style": "IPY_MODEL_30d24d0fbf824702a92e37ada690bf1b",
      "value": 9912422
     }
    },
    "5e2c16aca99f4ad4b56eaf2a79b6ac66": {
     "model_module": "@jupyter-widgets/controls",
     "model_module_version": "1.5.0",
     "model_name": "DescriptionStyleModel",
     "state": {
      "_model_module": "@jupyter-widgets/controls",
      "_model_module_version": "1.5.0",
      "_model_name": "DescriptionStyleModel",
      "_view_count": null,
      "_view_module": "@jupyter-widgets/base",
      "_view_module_version": "1.2.0",
      "_view_name": "StyleView",
      "description_width": ""
     }
    },
    "6ba3f6138b73413ba395e6c0113a1006": {
     "model_module": "@jupyter-widgets/controls",
     "model_module_version": "1.5.0",
     "model_name": "FloatProgressModel",
     "state": {
      "_dom_classes": [],
      "_model_module": "@jupyter-widgets/controls",
      "_model_module_version": "1.5.0",
      "_model_name": "FloatProgressModel",
      "_view_count": null,
      "_view_module": "@jupyter-widgets/controls",
      "_view_module_version": "1.5.0",
      "_view_name": "ProgressView",
      "bar_style": "success",
      "description": "",
      "description_tooltip": null,
      "layout": "IPY_MODEL_a30d26eb09ff4b49b751c5385d0e22dc",
      "max": 1648877,
      "min": 0,
      "orientation": "horizontal",
      "style": "IPY_MODEL_dfca1bcb2270472999a12c53406105e5",
      "value": 1648877
     }
    },
    "7085fbc2f39841fd8d3c24d635ddcc67": {
     "model_module": "@jupyter-widgets/controls",
     "model_module_version": "1.5.0",
     "model_name": "HTMLModel",
     "state": {
      "_dom_classes": [],
      "_model_module": "@jupyter-widgets/controls",
      "_model_module_version": "1.5.0",
      "_model_name": "HTMLModel",
      "_view_count": null,
      "_view_module": "@jupyter-widgets/controls",
      "_view_module_version": "1.5.0",
      "_view_name": "HTMLView",
      "description": "",
      "description_tooltip": null,
      "layout": "IPY_MODEL_7fa593bfe2e2414a8fb5ab04a4d88e16",
      "placeholder": "​",
      "style": "IPY_MODEL_a06fdf1e945d4847b0a75e98f4ad929f",
      "value": ""
     }
    },
    "73dbade4290b463eaf33c575bc31fbd8": {
     "model_module": "@jupyter-widgets/controls",
     "model_module_version": "1.5.0",
     "model_name": "DescriptionStyleModel",
     "state": {
      "_model_module": "@jupyter-widgets/controls",
      "_model_module_version": "1.5.0",
      "_model_name": "DescriptionStyleModel",
      "_view_count": null,
      "_view_module": "@jupyter-widgets/base",
      "_view_module_version": "1.2.0",
      "_view_name": "StyleView",
      "description_width": ""
     }
    },
    "76a6fc20792b4f8ea6d2d1e839b54590": {
     "model_module": "@jupyter-widgets/base",
     "model_module_version": "1.2.0",
     "model_name": "LayoutModel",
     "state": {
      "_model_module": "@jupyter-widgets/base",
      "_model_module_version": "1.2.0",
      "_model_name": "LayoutModel",
      "_view_count": null,
      "_view_module": "@jupyter-widgets/base",
      "_view_module_version": "1.2.0",
      "_view_name": "LayoutView",
      "align_content": null,
      "align_items": null,
      "align_self": null,
      "border": null,
      "bottom": null,
      "display": null,
      "flex": null,
      "flex_flow": null,
      "grid_area": null,
      "grid_auto_columns": null,
      "grid_auto_flow": null,
      "grid_auto_rows": null,
      "grid_column": null,
      "grid_gap": null,
      "grid_row": null,
      "grid_template_areas": null,
      "grid_template_columns": null,
      "grid_template_rows": null,
      "height": null,
      "justify_content": null,
      "justify_items": null,
      "left": null,
      "margin": null,
      "max_height": null,
      "max_width": null,
      "min_height": null,
      "min_width": null,
      "object_fit": null,
      "object_position": null,
      "order": null,
      "overflow": null,
      "overflow_x": null,
      "overflow_y": null,
      "padding": null,
      "right": null,
      "top": null,
      "visibility": null,
      "width": null
     }
    },
    "7f0869d1165a49458b341eb32ada4d0d": {
     "model_module": "@jupyter-widgets/controls",
     "model_module_version": "1.5.0",
     "model_name": "ProgressStyleModel",
     "state": {
      "_model_module": "@jupyter-widgets/controls",
      "_model_module_version": "1.5.0",
      "_model_name": "ProgressStyleModel",
      "_view_count": null,
      "_view_module": "@jupyter-widgets/base",
      "_view_module_version": "1.2.0",
      "_view_name": "StyleView",
      "bar_color": null,
      "description_width": ""
     }
    },
    "7fa593bfe2e2414a8fb5ab04a4d88e16": {
     "model_module": "@jupyter-widgets/base",
     "model_module_version": "1.2.0",
     "model_name": "LayoutModel",
     "state": {
      "_model_module": "@jupyter-widgets/base",
      "_model_module_version": "1.2.0",
      "_model_name": "LayoutModel",
      "_view_count": null,
      "_view_module": "@jupyter-widgets/base",
      "_view_module_version": "1.2.0",
      "_view_name": "LayoutView",
      "align_content": null,
      "align_items": null,
      "align_self": null,
      "border": null,
      "bottom": null,
      "display": null,
      "flex": null,
      "flex_flow": null,
      "grid_area": null,
      "grid_auto_columns": null,
      "grid_auto_flow": null,
      "grid_auto_rows": null,
      "grid_column": null,
      "grid_gap": null,
      "grid_row": null,
      "grid_template_areas": null,
      "grid_template_columns": null,
      "grid_template_rows": null,
      "height": null,
      "justify_content": null,
      "justify_items": null,
      "left": null,
      "margin": null,
      "max_height": null,
      "max_width": null,
      "min_height": null,
      "min_width": null,
      "object_fit": null,
      "object_position": null,
      "order": null,
      "overflow": null,
      "overflow_x": null,
      "overflow_y": null,
      "padding": null,
      "right": null,
      "top": null,
      "visibility": null,
      "width": null
     }
    },
    "827b1a9d93c248888185f69d076418cd": {
     "model_module": "@jupyter-widgets/base",
     "model_module_version": "1.2.0",
     "model_name": "LayoutModel",
     "state": {
      "_model_module": "@jupyter-widgets/base",
      "_model_module_version": "1.2.0",
      "_model_name": "LayoutModel",
      "_view_count": null,
      "_view_module": "@jupyter-widgets/base",
      "_view_module_version": "1.2.0",
      "_view_name": "LayoutView",
      "align_content": null,
      "align_items": null,
      "align_self": null,
      "border": null,
      "bottom": null,
      "display": null,
      "flex": null,
      "flex_flow": null,
      "grid_area": null,
      "grid_auto_columns": null,
      "grid_auto_flow": null,
      "grid_auto_rows": null,
      "grid_column": null,
      "grid_gap": null,
      "grid_row": null,
      "grid_template_areas": null,
      "grid_template_columns": null,
      "grid_template_rows": null,
      "height": null,
      "justify_content": null,
      "justify_items": null,
      "left": null,
      "margin": null,
      "max_height": null,
      "max_width": null,
      "min_height": null,
      "min_width": null,
      "object_fit": null,
      "object_position": null,
      "order": null,
      "overflow": null,
      "overflow_x": null,
      "overflow_y": null,
      "padding": null,
      "right": null,
      "top": null,
      "visibility": null,
      "width": null
     }
    },
    "879aeca7f12c4d5f81d22c729be2b55e": {
     "model_module": "@jupyter-widgets/controls",
     "model_module_version": "1.5.0",
     "model_name": "DescriptionStyleModel",
     "state": {
      "_model_module": "@jupyter-widgets/controls",
      "_model_module_version": "1.5.0",
      "_model_name": "DescriptionStyleModel",
      "_view_count": null,
      "_view_module": "@jupyter-widgets/base",
      "_view_module_version": "1.2.0",
      "_view_name": "StyleView",
      "description_width": ""
     }
    },
    "9357d03a9a384669bf9f69085f101747": {
     "model_module": "@jupyter-widgets/base",
     "model_module_version": "1.2.0",
     "model_name": "LayoutModel",
     "state": {
      "_model_module": "@jupyter-widgets/base",
      "_model_module_version": "1.2.0",
      "_model_name": "LayoutModel",
      "_view_count": null,
      "_view_module": "@jupyter-widgets/base",
      "_view_module_version": "1.2.0",
      "_view_name": "LayoutView",
      "align_content": null,
      "align_items": null,
      "align_self": null,
      "border": null,
      "bottom": null,
      "display": null,
      "flex": null,
      "flex_flow": null,
      "grid_area": null,
      "grid_auto_columns": null,
      "grid_auto_flow": null,
      "grid_auto_rows": null,
      "grid_column": null,
      "grid_gap": null,
      "grid_row": null,
      "grid_template_areas": null,
      "grid_template_columns": null,
      "grid_template_rows": null,
      "height": null,
      "justify_content": null,
      "justify_items": null,
      "left": null,
      "margin": null,
      "max_height": null,
      "max_width": null,
      "min_height": null,
      "min_width": null,
      "object_fit": null,
      "object_position": null,
      "order": null,
      "overflow": null,
      "overflow_x": null,
      "overflow_y": null,
      "padding": null,
      "right": null,
      "top": null,
      "visibility": null,
      "width": null
     }
    },
    "9adba12585a94367bbf842227009f5b6": {
     "model_module": "@jupyter-widgets/base",
     "model_module_version": "1.2.0",
     "model_name": "LayoutModel",
     "state": {
      "_model_module": "@jupyter-widgets/base",
      "_model_module_version": "1.2.0",
      "_model_name": "LayoutModel",
      "_view_count": null,
      "_view_module": "@jupyter-widgets/base",
      "_view_module_version": "1.2.0",
      "_view_name": "LayoutView",
      "align_content": null,
      "align_items": null,
      "align_self": null,
      "border": null,
      "bottom": null,
      "display": null,
      "flex": null,
      "flex_flow": null,
      "grid_area": null,
      "grid_auto_columns": null,
      "grid_auto_flow": null,
      "grid_auto_rows": null,
      "grid_column": null,
      "grid_gap": null,
      "grid_row": null,
      "grid_template_areas": null,
      "grid_template_columns": null,
      "grid_template_rows": null,
      "height": null,
      "justify_content": null,
      "justify_items": null,
      "left": null,
      "margin": null,
      "max_height": null,
      "max_width": null,
      "min_height": null,
      "min_width": null,
      "object_fit": null,
      "object_position": null,
      "order": null,
      "overflow": null,
      "overflow_x": null,
      "overflow_y": null,
      "padding": null,
      "right": null,
      "top": null,
      "visibility": null,
      "width": null
     }
    },
    "9d21def39db5409ea58de051d3e9fdd5": {
     "model_module": "@jupyter-widgets/base",
     "model_module_version": "1.2.0",
     "model_name": "LayoutModel",
     "state": {
      "_model_module": "@jupyter-widgets/base",
      "_model_module_version": "1.2.0",
      "_model_name": "LayoutModel",
      "_view_count": null,
      "_view_module": "@jupyter-widgets/base",
      "_view_module_version": "1.2.0",
      "_view_name": "LayoutView",
      "align_content": null,
      "align_items": null,
      "align_self": null,
      "border": null,
      "bottom": null,
      "display": null,
      "flex": null,
      "flex_flow": null,
      "grid_area": null,
      "grid_auto_columns": null,
      "grid_auto_flow": null,
      "grid_auto_rows": null,
      "grid_column": null,
      "grid_gap": null,
      "grid_row": null,
      "grid_template_areas": null,
      "grid_template_columns": null,
      "grid_template_rows": null,
      "height": null,
      "justify_content": null,
      "justify_items": null,
      "left": null,
      "margin": null,
      "max_height": null,
      "max_width": null,
      "min_height": null,
      "min_width": null,
      "object_fit": null,
      "object_position": null,
      "order": null,
      "overflow": null,
      "overflow_x": null,
      "overflow_y": null,
      "padding": null,
      "right": null,
      "top": null,
      "visibility": null,
      "width": null
     }
    },
    "a06fdf1e945d4847b0a75e98f4ad929f": {
     "model_module": "@jupyter-widgets/controls",
     "model_module_version": "1.5.0",
     "model_name": "DescriptionStyleModel",
     "state": {
      "_model_module": "@jupyter-widgets/controls",
      "_model_module_version": "1.5.0",
      "_model_name": "DescriptionStyleModel",
      "_view_count": null,
      "_view_module": "@jupyter-widgets/base",
      "_view_module_version": "1.2.0",
      "_view_name": "StyleView",
      "description_width": ""
     }
    },
    "a200b72a12614e5ea55c696e0c7fda80": {
     "model_module": "@jupyter-widgets/controls",
     "model_module_version": "1.5.0",
     "model_name": "HBoxModel",
     "state": {
      "_dom_classes": [],
      "_model_module": "@jupyter-widgets/controls",
      "_model_module_version": "1.5.0",
      "_model_name": "HBoxModel",
      "_view_count": null,
      "_view_module": "@jupyter-widgets/controls",
      "_view_module_version": "1.5.0",
      "_view_name": "HBoxView",
      "box_style": "",
      "children": [
       "IPY_MODEL_b253f8cde3104bde9111c88efcc56769",
       "IPY_MODEL_6ba3f6138b73413ba395e6c0113a1006",
       "IPY_MODEL_aced54efb3474f1aa29e686c714dfb42"
      ],
      "layout": "IPY_MODEL_9357d03a9a384669bf9f69085f101747"
     }
    },
    "a30d26eb09ff4b49b751c5385d0e22dc": {
     "model_module": "@jupyter-widgets/base",
     "model_module_version": "1.2.0",
     "model_name": "LayoutModel",
     "state": {
      "_model_module": "@jupyter-widgets/base",
      "_model_module_version": "1.2.0",
      "_model_name": "LayoutModel",
      "_view_count": null,
      "_view_module": "@jupyter-widgets/base",
      "_view_module_version": "1.2.0",
      "_view_name": "LayoutView",
      "align_content": null,
      "align_items": null,
      "align_self": null,
      "border": null,
      "bottom": null,
      "display": null,
      "flex": null,
      "flex_flow": null,
      "grid_area": null,
      "grid_auto_columns": null,
      "grid_auto_flow": null,
      "grid_auto_rows": null,
      "grid_column": null,
      "grid_gap": null,
      "grid_row": null,
      "grid_template_areas": null,
      "grid_template_columns": null,
      "grid_template_rows": null,
      "height": null,
      "justify_content": null,
      "justify_items": null,
      "left": null,
      "margin": null,
      "max_height": null,
      "max_width": null,
      "min_height": null,
      "min_width": null,
      "object_fit": null,
      "object_position": null,
      "order": null,
      "overflow": null,
      "overflow_x": null,
      "overflow_y": null,
      "padding": null,
      "right": null,
      "top": null,
      "visibility": null,
      "width": null
     }
    },
    "a3dfe446d96248b1a5ae4ae66b87f135": {
     "model_module": "@jupyter-widgets/controls",
     "model_module_version": "1.5.0",
     "model_name": "HBoxModel",
     "state": {
      "_dom_classes": [],
      "_model_module": "@jupyter-widgets/controls",
      "_model_module_version": "1.5.0",
      "_model_name": "HBoxModel",
      "_view_count": null,
      "_view_module": "@jupyter-widgets/controls",
      "_view_module_version": "1.5.0",
      "_view_name": "HBoxView",
      "box_style": "",
      "children": [
       "IPY_MODEL_7085fbc2f39841fd8d3c24d635ddcc67",
       "IPY_MODEL_2c438de94f6b43f09bb4a79803704808",
       "IPY_MODEL_bc9ed563b0e94a379d66d4c2baad01a2"
      ],
      "layout": "IPY_MODEL_fcfe4a4fb6d54992b73b921a4a7662de"
     }
    },
    "a96d5ac7fdc04882a1d1ed5283cf5ee3": {
     "model_module": "@jupyter-widgets/controls",
     "model_module_version": "1.5.0",
     "model_name": "DescriptionStyleModel",
     "state": {
      "_model_module": "@jupyter-widgets/controls",
      "_model_module_version": "1.5.0",
      "_model_name": "DescriptionStyleModel",
      "_view_count": null,
      "_view_module": "@jupyter-widgets/base",
      "_view_module_version": "1.2.0",
      "_view_name": "StyleView",
      "description_width": ""
     }
    },
    "aced54efb3474f1aa29e686c714dfb42": {
     "model_module": "@jupyter-widgets/controls",
     "model_module_version": "1.5.0",
     "model_name": "HTMLModel",
     "state": {
      "_dom_classes": [],
      "_model_module": "@jupyter-widgets/controls",
      "_model_module_version": "1.5.0",
      "_model_name": "HTMLModel",
      "_view_count": null,
      "_view_module": "@jupyter-widgets/controls",
      "_view_module_version": "1.5.0",
      "_view_name": "HTMLView",
      "description": "",
      "description_tooltip": null,
      "layout": "IPY_MODEL_b753d5452fcf4dbd83229de879ca33fa",
      "placeholder": "​",
      "style": "IPY_MODEL_a96d5ac7fdc04882a1d1ed5283cf5ee3",
      "value": " 1649664/? [00:00&lt;00:00, 757636.08it/s]"
     }
    },
    "b014ab4c42ec4886a4ccab91308cbaff": {
     "model_module": "@jupyter-widgets/base",
     "model_module_version": "1.2.0",
     "model_name": "LayoutModel",
     "state": {
      "_model_module": "@jupyter-widgets/base",
      "_model_module_version": "1.2.0",
      "_model_name": "LayoutModel",
      "_view_count": null,
      "_view_module": "@jupyter-widgets/base",
      "_view_module_version": "1.2.0",
      "_view_name": "LayoutView",
      "align_content": null,
      "align_items": null,
      "align_self": null,
      "border": null,
      "bottom": null,
      "display": null,
      "flex": null,
      "flex_flow": null,
      "grid_area": null,
      "grid_auto_columns": null,
      "grid_auto_flow": null,
      "grid_auto_rows": null,
      "grid_column": null,
      "grid_gap": null,
      "grid_row": null,
      "grid_template_areas": null,
      "grid_template_columns": null,
      "grid_template_rows": null,
      "height": null,
      "justify_content": null,
      "justify_items": null,
      "left": null,
      "margin": null,
      "max_height": null,
      "max_width": null,
      "min_height": null,
      "min_width": null,
      "object_fit": null,
      "object_position": null,
      "order": null,
      "overflow": null,
      "overflow_x": null,
      "overflow_y": null,
      "padding": null,
      "right": null,
      "top": null,
      "visibility": null,
      "width": null
     }
    },
    "b253f8cde3104bde9111c88efcc56769": {
     "model_module": "@jupyter-widgets/controls",
     "model_module_version": "1.5.0",
     "model_name": "HTMLModel",
     "state": {
      "_dom_classes": [],
      "_model_module": "@jupyter-widgets/controls",
      "_model_module_version": "1.5.0",
      "_model_name": "HTMLModel",
      "_view_count": null,
      "_view_module": "@jupyter-widgets/controls",
      "_view_module_version": "1.5.0",
      "_view_name": "HTMLView",
      "description": "",
      "description_tooltip": null,
      "layout": "IPY_MODEL_9d21def39db5409ea58de051d3e9fdd5",
      "placeholder": "​",
      "style": "IPY_MODEL_5e2c16aca99f4ad4b56eaf2a79b6ac66",
      "value": ""
     }
    },
    "b753d5452fcf4dbd83229de879ca33fa": {
     "model_module": "@jupyter-widgets/base",
     "model_module_version": "1.2.0",
     "model_name": "LayoutModel",
     "state": {
      "_model_module": "@jupyter-widgets/base",
      "_model_module_version": "1.2.0",
      "_model_name": "LayoutModel",
      "_view_count": null,
      "_view_module": "@jupyter-widgets/base",
      "_view_module_version": "1.2.0",
      "_view_name": "LayoutView",
      "align_content": null,
      "align_items": null,
      "align_self": null,
      "border": null,
      "bottom": null,
      "display": null,
      "flex": null,
      "flex_flow": null,
      "grid_area": null,
      "grid_auto_columns": null,
      "grid_auto_flow": null,
      "grid_auto_rows": null,
      "grid_column": null,
      "grid_gap": null,
      "grid_row": null,
      "grid_template_areas": null,
      "grid_template_columns": null,
      "grid_template_rows": null,
      "height": null,
      "justify_content": null,
      "justify_items": null,
      "left": null,
      "margin": null,
      "max_height": null,
      "max_width": null,
      "min_height": null,
      "min_width": null,
      "object_fit": null,
      "object_position": null,
      "order": null,
      "overflow": null,
      "overflow_x": null,
      "overflow_y": null,
      "padding": null,
      "right": null,
      "top": null,
      "visibility": null,
      "width": null
     }
    },
    "bc9ed563b0e94a379d66d4c2baad01a2": {
     "model_module": "@jupyter-widgets/controls",
     "model_module_version": "1.5.0",
     "model_name": "HTMLModel",
     "state": {
      "_dom_classes": [],
      "_model_module": "@jupyter-widgets/controls",
      "_model_module_version": "1.5.0",
      "_model_name": "HTMLModel",
      "_view_count": null,
      "_view_module": "@jupyter-widgets/controls",
      "_view_module_version": "1.5.0",
      "_view_name": "HTMLView",
      "description": "",
      "description_tooltip": null,
      "layout": "IPY_MODEL_9adba12585a94367bbf842227009f5b6",
      "placeholder": "​",
      "style": "IPY_MODEL_db4f1bfccf3b41ecbfc51f9d1ab2d29f",
      "value": " 5120/? [00:00&lt;00:00, 8780.61it/s]"
     }
    },
    "cd8d242c12ae4b92aae052afe35f23d7": {
     "model_module": "@jupyter-widgets/base",
     "model_module_version": "1.2.0",
     "model_name": "LayoutModel",
     "state": {
      "_model_module": "@jupyter-widgets/base",
      "_model_module_version": "1.2.0",
      "_model_name": "LayoutModel",
      "_view_count": null,
      "_view_module": "@jupyter-widgets/base",
      "_view_module_version": "1.2.0",
      "_view_name": "LayoutView",
      "align_content": null,
      "align_items": null,
      "align_self": null,
      "border": null,
      "bottom": null,
      "display": null,
      "flex": null,
      "flex_flow": null,
      "grid_area": null,
      "grid_auto_columns": null,
      "grid_auto_flow": null,
      "grid_auto_rows": null,
      "grid_column": null,
      "grid_gap": null,
      "grid_row": null,
      "grid_template_areas": null,
      "grid_template_columns": null,
      "grid_template_rows": null,
      "height": null,
      "justify_content": null,
      "justify_items": null,
      "left": null,
      "margin": null,
      "max_height": null,
      "max_width": null,
      "min_height": null,
      "min_width": null,
      "object_fit": null,
      "object_position": null,
      "order": null,
      "overflow": null,
      "overflow_x": null,
      "overflow_y": null,
      "padding": null,
      "right": null,
      "top": null,
      "visibility": null,
      "width": null
     }
    },
    "d661e733e7a645be9b5f8bf6a3af2a84": {
     "model_module": "@jupyter-widgets/controls",
     "model_module_version": "1.5.0",
     "model_name": "ProgressStyleModel",
     "state": {
      "_model_module": "@jupyter-widgets/controls",
      "_model_module_version": "1.5.0",
      "_model_name": "ProgressStyleModel",
      "_view_count": null,
      "_view_module": "@jupyter-widgets/base",
      "_view_module_version": "1.2.0",
      "_view_name": "StyleView",
      "bar_color": null,
      "description_width": ""
     }
    },
    "db4f1bfccf3b41ecbfc51f9d1ab2d29f": {
     "model_module": "@jupyter-widgets/controls",
     "model_module_version": "1.5.0",
     "model_name": "DescriptionStyleModel",
     "state": {
      "_model_module": "@jupyter-widgets/controls",
      "_model_module_version": "1.5.0",
      "_model_name": "DescriptionStyleModel",
      "_view_count": null,
      "_view_module": "@jupyter-widgets/base",
      "_view_module_version": "1.2.0",
      "_view_name": "StyleView",
      "description_width": ""
     }
    },
    "dfca1bcb2270472999a12c53406105e5": {
     "model_module": "@jupyter-widgets/controls",
     "model_module_version": "1.5.0",
     "model_name": "ProgressStyleModel",
     "state": {
      "_model_module": "@jupyter-widgets/controls",
      "_model_module_version": "1.5.0",
      "_model_name": "ProgressStyleModel",
      "_view_count": null,
      "_view_module": "@jupyter-widgets/base",
      "_view_module_version": "1.2.0",
      "_view_name": "StyleView",
      "bar_color": null,
      "description_width": ""
     }
    },
    "e5cd44368ee04b9f9e79ea8d7cb1abbb": {
     "model_module": "@jupyter-widgets/controls",
     "model_module_version": "1.5.0",
     "model_name": "HTMLModel",
     "state": {
      "_dom_classes": [],
      "_model_module": "@jupyter-widgets/controls",
      "_model_module_version": "1.5.0",
      "_model_name": "HTMLModel",
      "_view_count": null,
      "_view_module": "@jupyter-widgets/controls",
      "_view_module_version": "1.5.0",
      "_view_name": "HTMLView",
      "description": "",
      "description_tooltip": null,
      "layout": "IPY_MODEL_f45964e662134f3fb92f49f8010990a1",
      "placeholder": "​",
      "style": "IPY_MODEL_e81123832b574b609a85add587f565b4",
      "value": " 29696/? [00:00&lt;00:00, 7712.00it/s]"
     }
    },
    "e81123832b574b609a85add587f565b4": {
     "model_module": "@jupyter-widgets/controls",
     "model_module_version": "1.5.0",
     "model_name": "DescriptionStyleModel",
     "state": {
      "_model_module": "@jupyter-widgets/controls",
      "_model_module_version": "1.5.0",
      "_model_name": "DescriptionStyleModel",
      "_view_count": null,
      "_view_module": "@jupyter-widgets/base",
      "_view_module_version": "1.2.0",
      "_view_name": "StyleView",
      "description_width": ""
     }
    },
    "eda6ddbe2ec74b04aeadfdee8724a0ca": {
     "model_module": "@jupyter-widgets/controls",
     "model_module_version": "1.5.0",
     "model_name": "HTMLModel",
     "state": {
      "_dom_classes": [],
      "_model_module": "@jupyter-widgets/controls",
      "_model_module_version": "1.5.0",
      "_model_name": "HTMLModel",
      "_view_count": null,
      "_view_module": "@jupyter-widgets/controls",
      "_view_module_version": "1.5.0",
      "_view_name": "HTMLView",
      "description": "",
      "description_tooltip": null,
      "layout": "IPY_MODEL_76a6fc20792b4f8ea6d2d1e839b54590",
      "placeholder": "​",
      "style": "IPY_MODEL_879aeca7f12c4d5f81d22c729be2b55e",
      "value": ""
     }
    },
    "f45964e662134f3fb92f49f8010990a1": {
     "model_module": "@jupyter-widgets/base",
     "model_module_version": "1.2.0",
     "model_name": "LayoutModel",
     "state": {
      "_model_module": "@jupyter-widgets/base",
      "_model_module_version": "1.2.0",
      "_model_name": "LayoutModel",
      "_view_count": null,
      "_view_module": "@jupyter-widgets/base",
      "_view_module_version": "1.2.0",
      "_view_name": "LayoutView",
      "align_content": null,
      "align_items": null,
      "align_self": null,
      "border": null,
      "bottom": null,
      "display": null,
      "flex": null,
      "flex_flow": null,
      "grid_area": null,
      "grid_auto_columns": null,
      "grid_auto_flow": null,
      "grid_auto_rows": null,
      "grid_column": null,
      "grid_gap": null,
      "grid_row": null,
      "grid_template_areas": null,
      "grid_template_columns": null,
      "grid_template_rows": null,
      "height": null,
      "justify_content": null,
      "justify_items": null,
      "left": null,
      "margin": null,
      "max_height": null,
      "max_width": null,
      "min_height": null,
      "min_width": null,
      "object_fit": null,
      "object_position": null,
      "order": null,
      "overflow": null,
      "overflow_x": null,
      "overflow_y": null,
      "padding": null,
      "right": null,
      "top": null,
      "visibility": null,
      "width": null
     }
    },
    "faa6835705cf49afb42d1e849b16ebab": {
     "model_module": "@jupyter-widgets/controls",
     "model_module_version": "1.5.0",
     "model_name": "HBoxModel",
     "state": {
      "_dom_classes": [],
      "_model_module": "@jupyter-widgets/controls",
      "_model_module_version": "1.5.0",
      "_model_name": "HBoxModel",
      "_view_count": null,
      "_view_module": "@jupyter-widgets/controls",
      "_view_module_version": "1.5.0",
      "_view_name": "HBoxView",
      "box_style": "",
      "children": [
       "IPY_MODEL_30fe5a3afeb34bfea2b130ca0865bcb7",
       "IPY_MODEL_56b40e8fea9e4d598f40862eaaaf3057",
       "IPY_MODEL_1ff3405e30b64aaa8fc89441f2d89e6e"
      ],
      "layout": "IPY_MODEL_b014ab4c42ec4886a4ccab91308cbaff"
     }
    },
    "fcfe4a4fb6d54992b73b921a4a7662de": {
     "model_module": "@jupyter-widgets/base",
     "model_module_version": "1.2.0",
     "model_name": "LayoutModel",
     "state": {
      "_model_module": "@jupyter-widgets/base",
      "_model_module_version": "1.2.0",
      "_model_name": "LayoutModel",
      "_view_count": null,
      "_view_module": "@jupyter-widgets/base",
      "_view_module_version": "1.2.0",
      "_view_name": "LayoutView",
      "align_content": null,
      "align_items": null,
      "align_self": null,
      "border": null,
      "bottom": null,
      "display": null,
      "flex": null,
      "flex_flow": null,
      "grid_area": null,
      "grid_auto_columns": null,
      "grid_auto_flow": null,
      "grid_auto_rows": null,
      "grid_column": null,
      "grid_gap": null,
      "grid_row": null,
      "grid_template_areas": null,
      "grid_template_columns": null,
      "grid_template_rows": null,
      "height": null,
      "justify_content": null,
      "justify_items": null,
      "left": null,
      "margin": null,
      "max_height": null,
      "max_width": null,
      "min_height": null,
      "min_width": null,
      "object_fit": null,
      "object_position": null,
      "order": null,
      "overflow": null,
      "overflow_x": null,
      "overflow_y": null,
      "padding": null,
      "right": null,
      "top": null,
      "visibility": null,
      "width": null
     }
    }
   }
  }
 },
 "nbformat": 4,
 "nbformat_minor": 4
}
