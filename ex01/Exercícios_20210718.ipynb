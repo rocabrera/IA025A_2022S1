{
 "cells": [
  {
   "cell_type": "markdown",
   "metadata": {
    "colab_type": "text",
    "id": "view-in-github"
   },
   "source": [
    "<a href=\"https://colab.research.google.com/github/rocabrera/IA025A_2022S1/blob/master/ex01/Exerc%C3%ADcios_20210718.ipynb\" target=\"_parent\"><img src=\"https://colab.research.google.com/assets/colab-badge.svg\" alt=\"Open In Colab\"/></a>"
   ]
  },
  {
   "cell_type": "markdown",
   "metadata": {
    "id": "mTVOQpMfhgLM"
   },
   "source": [
    "Esté um notebook Colab contendo exercícios de programação em python, numpy e pytorch."
   ]
  },
  {
   "cell_type": "markdown",
   "metadata": {
    "id": "KMoyGt5gXMgK"
   },
   "source": [
    "## Coloque seu nome"
   ]
  },
  {
   "cell_type": "code",
   "execution_count": null,
   "metadata": {
    "colab": {
     "base_uri": "https://localhost:8080/"
    },
    "id": "iBHbXcibXPRe",
    "outputId": "e048c831-0d74-4885-f658-196f863e61a9"
   },
   "outputs": [
    {
     "name": "stdout",
     "output_type": "stream",
     "text": [
      "Meu nome é: Rodrigo Cabrera Castaldoni\n"
     ]
    }
   ],
   "source": [
    "print('Meu nome é: Rodrigo Cabrera Castaldoni')"
   ]
  },
  {
   "cell_type": "markdown",
   "metadata": {
    "id": "e9S5acRbm1Zr"
   },
   "source": [
    "# Parte 1:\n",
    "\n",
    "##Exercícios de Processamento de Dados\n",
    "\n",
    "Nesta parte pode-se usar as bibliotecas nativas do python como a `collections`, `re` e `random`. Também pode-se usar o NumPy."
   ]
  },
  {
   "cell_type": "markdown",
   "metadata": {
    "id": "kxS5h1V8nDn6"
   },
   "source": [
    "##Exercício 1.1\n",
    "Crie um dicionário com os `k` itens mais frequentes de uma lista.\n",
    "\n",
    "Por exemplo, dada a lista de itens `L=['a', 'a', 'd', 'b', 'd', 'c', 'e', 'a', 'b', 'e', 'e', 'a']` e `k=2`, o resultado deve ser um dicionário cuja chave é o item e o valor é a sua frequência: {'a': 4, 'e': 3}"
   ]
  },
  {
   "cell_type": "code",
   "execution_count": null,
   "metadata": {
    "id": "gT08b5Z_nC-j"
   },
   "outputs": [],
   "source": [
    "from collections import Counter\n",
    "\n",
    "def top_k(L, k):\n",
    "  frequency_dict = Counter(L)\n",
    "  ordered_dict = sorted(frequency_dict.items(), key=lambda x: x[1], reverse=True)\n",
    "\n",
    "  return dict(ordered_dict[:k])\n",
    "\n",
    "L = ['f', 'a', 'a', 'd', 'b', 'd', 'c', 'e', 'a', 'b', 'e', 'e', 'a', 'd']\n",
    "k = 3"
   ]
  },
  {
   "cell_type": "markdown",
   "metadata": {
    "id": "KLD_e3C9p4xO"
   },
   "source": [
    "Mostre que sua implementação está correta usando uma entrada com poucos itens:"
   ]
  },
  {
   "cell_type": "code",
   "execution_count": null,
   "metadata": {
    "colab": {
     "base_uri": "https://localhost:8080/"
    },
    "id": "iMW9NiBgnkvA",
    "outputId": "6cccbc28-76fe-4b21-a7ae-ae030e40bf73"
   },
   "outputs": [
    {
     "name": "stdout",
     "output_type": "stream",
     "text": [
      "resultado: {'a': 4, 'd': 3, 'e': 3}\n"
     ]
    }
   ],
   "source": [
    "L = ['f', 'a', 'a', 'd', 'b', 'd', 'c', 'e', 'a', 'b', 'e', 'e', 'a', 'd']\n",
    "k = 3\n",
    "resultado = top_k(L=L, k=k)\n",
    "print(f'resultado: {resultado}')"
   ]
  },
  {
   "cell_type": "markdown",
   "metadata": {
    "id": "wBeqZScQqJ0a"
   },
   "source": [
    "Mostre que sua implementação é eficiente usando uma entrada com 10M de itens:"
   ]
  },
  {
   "cell_type": "code",
   "execution_count": null,
   "metadata": {
    "id": "O_lhcm4ko8bY"
   },
   "outputs": [],
   "source": [
    "import random\n",
    "L = random.choices('abcdefghijklmnopqrstuvwxyz', k=10_000_000)\n",
    "k = 10000"
   ]
  },
  {
   "cell_type": "code",
   "execution_count": null,
   "metadata": {
    "colab": {
     "base_uri": "https://localhost:8080/"
    },
    "id": "L9U-Bgs2o-f_",
    "outputId": "e40e73e3-dc13-47cf-8e32-077430054cf4"
   },
   "outputs": [
    {
     "name": "stdout",
     "output_type": "stream",
     "text": [
      "1 loop, best of 5: 1.13 s per loop\n"
     ]
    }
   ],
   "source": [
    "%%timeit\n",
    "resultado = top_k(L=L, k=k)"
   ]
  },
  {
   "cell_type": "markdown",
   "metadata": {
    "id": "oJHDaOz_tK38"
   },
   "source": [
    "## Exercício 1.2\n",
    "\n",
    "Em processamento de linguagem natural, é comum convertemos as palavras de um texto para uma lista de identificadores dessas palavras. Dado o dicionário `V` abaixo onde as chaves são palavras e os valores são seus respectivos identificadores, converta o texto `D` para uma lista de identificadores.\n",
    "\n",
    "Palavras que não existem no dicionário deverão ser convertidas para o identificador do token `unknown`.\n",
    "\n",
    "O código deve ser insensível a maiúsculas (case-insensitive).\n",
    "\n",
    "Se atente que pontuações (vírgulas, ponto final, etc) também são consideradas palavras."
   ]
  },
  {
   "cell_type": "code",
   "execution_count": null,
   "metadata": {
    "id": "rVzv89trtTPc"
   },
   "outputs": [],
   "source": [
    "import re\n",
    "import string\n",
    "\n",
    "def tokens_to_ids(text, vocabulary):\n",
    "  aux = re.sub(f\"[{string.punctuation}]\", r' \\g<0>', D)\n",
    "  return [vocabulary.get(word, vocabulary[\"unknown\"]) for word in aux.lower().split()]"
   ]
  },
  {
   "cell_type": "markdown",
   "metadata": {
    "id": "aCGZeiqkY-sm"
   },
   "source": [
    "Mostre que sua implementação esta correta com um exemplo pequeno:\n",
    "\n",
    "---\n",
    "\n"
   ]
  },
  {
   "cell_type": "code",
   "execution_count": null,
   "metadata": {
    "colab": {
     "base_uri": "https://localhost:8080/"
    },
    "id": "iApR1h7gY98E",
    "outputId": "79646fb3-c903-4a61-c9e1-3435e6865b7c"
   },
   "outputs": [
    {
     "name": "stdout",
     "output_type": "stream",
     "text": [
      "[1, 3, 2, 4, -1, 5]\n"
     ]
    }
   ],
   "source": [
    "V = {'eu': 1, 'de': 2, 'gosto': 3, 'comer': 4, '.': 5, 'unknown': -1}\n",
    "D = 'Eu gosto de comer pizza.'\n",
    "\n",
    "print(tokens_to_ids(D, V))"
   ]
  },
  {
   "cell_type": "markdown",
   "metadata": {
    "id": "dWtTMxlXZN25"
   },
   "source": [
    "Mostre que sua implementação é eficiente com um exemplo grande:"
   ]
  },
  {
   "cell_type": "code",
   "execution_count": null,
   "metadata": {
    "id": "pxT_g-ZxZUsX"
   },
   "outputs": [],
   "source": [
    "V = {'eu': 1, 'de': 2, 'gosto': 3, 'comer': 4, '.': 5, 'unknown': -1}\n",
    "D = ' '.join(1_000_000 * ['Eu gosto de comer pizza.'])"
   ]
  },
  {
   "cell_type": "code",
   "execution_count": null,
   "metadata": {
    "colab": {
     "base_uri": "https://localhost:8080/"
    },
    "id": "kp1nataGZU-V",
    "outputId": "b8e21265-5e2d-4df6-d57f-0f7ca4bcc9af"
   },
   "outputs": [
    {
     "name": "stdout",
     "output_type": "stream",
     "text": [
      "1 loop, best of 5: 2.86 s per loop\n"
     ]
    }
   ],
   "source": [
    "%%timeit\n",
    "resultado = tokens_to_ids(D, V)"
   ]
  },
  {
   "cell_type": "markdown",
   "metadata": {
    "id": "XRfaKfXwRXn_"
   },
   "source": [
    "## Exercício 1.3\n",
    "\n",
    "Em aprendizado profundo é comum termos que lidar com arquivos muito grandes.\n",
    "\n",
    "Dado um arquivo de texto onde cada item é separado por `\\n`, escreva um programa que amostre `k` itens desse arquivo aleatoriamente.\n",
    "\n",
    "Nota 1: Assuma amostragem de uma distribuição uniforme, ou seja, todos os itens tem a mesma probablidade de amostragem.\n",
    "\n",
    "Nota 2: Assuma que o arquivo não cabe em memória.\n",
    "\n",
    "Nota 3: Utilize apenas bibliotecas nativas do python."
   ]
  },
  {
   "cell_type": "code",
   "execution_count": null,
   "metadata": {
    "id": "2PsadE9SRG_9"
   },
   "outputs": [],
   "source": [
    "import random\n",
    "from collections import Counter\n",
    "def sample(path: str, k: int):\n",
    "    \n",
    "    with open(path) as fp:\n",
    "        max_lines = sum(1 for _ in fp)\n",
    "        \n",
    "    samples2get = Counter([int(random.uniform(0, max_lines)) for _ in range(k)])\n",
    "    amostras = []\n",
    "    with open(path) as fp:\n",
    "        for i, line in enumerate(fp):\n",
    "            for _ in range(samples2get.get(i,0)):\n",
    "                amostras.append(line.strip(\"\\n\"))\n",
    "\n",
    "    return amostras"
   ]
  },
  {
   "cell_type": "markdown",
   "metadata": {
    "id": "ycEnlFWxSt0i"
   },
   "source": [
    "Mostre que sua implementação está correta com um exemplo pequeno:"
   ]
  },
  {
   "cell_type": "code",
   "execution_count": null,
   "metadata": {
    "colab": {
     "base_uri": "https://localhost:8080/"
    },
    "id": "vyLJ1e2ZSzC9",
    "outputId": "e6492a3b-c0d1-454b-a8f4-afa6875517a1"
   },
   "outputs": [
    {
     "name": "stdout",
     "output_type": "stream",
     "text": [
      "['line 12', 'line 20', 'line 43', 'line 45', 'line 51', 'line 56', 'line 68', 'line 87', 'line 91', 'line 96']\n",
      "True\n"
     ]
    }
   ],
   "source": [
    "filename = 'small.txt'\n",
    "total_size = 100\n",
    "n_samples = 10\n",
    "\n",
    "with open(filename, 'w') as fout:\n",
    "    fout.write('\\n'.join(f'line {i}' for i in range(total_size)))\n",
    "\n",
    "samples = sample(path=filename, k=n_samples)\n",
    "print(samples)\n",
    "print(len(samples) == n_samples)"
   ]
  },
  {
   "cell_type": "markdown",
   "metadata": {
    "id": "2r4FMiMj12Xg"
   },
   "source": [
    "Mostre que sua implementação é eficiente com um exemplo grande:"
   ]
  },
  {
   "cell_type": "code",
   "execution_count": null,
   "metadata": {
    "id": "PUwnNMGg18Ty"
   },
   "outputs": [],
   "source": [
    "filename = 'large.txt'\n",
    "total_size = 1_000_000\n",
    "n_samples = 10000\n",
    "\n",
    "with open(filename, 'w') as fout:\n",
    "    fout.write('\\n'.join(f'line {i}' for i in range(total_size)))"
   ]
  },
  {
   "cell_type": "code",
   "execution_count": null,
   "metadata": {
    "colab": {
     "base_uri": "https://localhost:8080/"
    },
    "id": "iA9sAZmo0UDN",
    "outputId": "71184972-8fb7-4c44-9a16-2b07904a5ff6"
   },
   "outputs": [
    {
     "name": "stdout",
     "output_type": "stream",
     "text": [
      "1 loop, best of 5: 544 ms per loop\n"
     ]
    }
   ],
   "source": [
    "%%timeit\n",
    "samples = sample(path=filename, k=n_samples)\n",
    "assert len(samples) == n_samples"
   ]
  },
  {
   "cell_type": "markdown",
   "metadata": {
    "id": "udS0Ns4etoJs"
   },
   "source": [
    "# Parte 2:\n",
    "\n",
    "##Exercícios de Numpy\n",
    "\n",
    "Nesta parte deve-se usar apenas a biblioteca NumPy. Aqui não se pode usar o PyTorch."
   ]
  },
  {
   "cell_type": "markdown",
   "metadata": {
    "id": "RcMz3Vzjt144"
   },
   "source": [
    "##Exercício 2.1\n",
    "\n",
    "Quantos operações de ponto flutuante (flops) de soma e de multiplicação tem a multiplicação matricial $AB$, sendo que a matriz $A$ tem tamanho $m \\times n$ e a matriz $B$ tem tamanho $n \\times p$?"
   ]
  },
  {
   "cell_type": "markdown",
   "metadata": {
    "id": "p0kyQ_SvDbVH"
   },
   "source": [
    "```python\n",
    "import numpy as np\n",
    "\"\"\"\n",
    "No caso vou analisar a implementação mais simples de multiplicação matricial,\n",
    "isto é O(mnp) quando m=n=p O(n^3).\n",
    "\"\"\"\n",
    "def mul_matriz(A, B):\n",
    "  m, _ = A.shape\n",
    "  n, p = B.shape\n",
    "  C = np.zeros((m,p))\n",
    "\n",
    "  for i in range(m):\n",
    "    for j in range(p):\n",
    "      C[i,j] = A[i,0]*B[0,j]\n",
    "      for k in range(1, n):\n",
    "        C[i, j] = C[i,j] + A[i,k]*B[k,j]\n",
    "  return C\n",
    "```"
   ]
  },
  {
   "cell_type": "markdown",
   "metadata": {
    "id": "4gNXj45RJqUm"
   },
   "source": [
    "Resposta:\n",
    "- número de somas: $m\\cdot p\\cdot (n-1)$\n",
    "- número de multiplicações: $m \\cdot p \\cdot n$\n",
    "\n",
    "Assim sendo, no total temos:\n",
    "\n",
    "$m\\cdot p\\cdot (n-1) + m \\cdot p \\cdot n = m\\cdot p\\cdot (2n−1)$ flops\n",
    "\n",
    "Explicação:\n",
    "\n",
    "Como mostrado no código somamos somente $(n-1)$ vezes enquanto acontecem $n$ multiplicações $(n-1)$ no laço mais interno e 1 fora do laço mais interno."
   ]
  },
  {
   "cell_type": "markdown",
   "metadata": {
    "id": "2iI7udBFeDlP"
   },
   "source": [
    "## Exercício 2.2\n",
    "\n",
    "Em programação matricial, não se faz o loop em cada elemento da matriz,\n",
    "mas sim, utiliza-se operações matriciais.\n",
    "\n",
    "Dada a matriz `A` abaixo, calcule a média dos valores de cada linha sem utilizar laços explícitos.\n",
    "\n",
    "Utilize apenas a biblioteca numpy."
   ]
  },
  {
   "cell_type": "code",
   "execution_count": null,
   "metadata": {
    "id": "cjrXf18N5KrK"
   },
   "outputs": [],
   "source": [
    "import numpy as np"
   ]
  },
  {
   "cell_type": "code",
   "execution_count": null,
   "metadata": {
    "colab": {
     "base_uri": "https://localhost:8080/"
    },
    "id": "-fqxgNBW27Z0",
    "outputId": "35abe6b2-3623-4162-db38-24f73207ad74"
   },
   "outputs": [
    {
     "name": "stdout",
     "output_type": "stream",
     "text": [
      "[[ 0  1  2  3  4  5]\n",
      " [ 6  7  8  9 10 11]\n",
      " [12 13 14 15 16 17]\n",
      " [18 19 20 21 22 23]]\n"
     ]
    }
   ],
   "source": [
    "A = np.arange(24).reshape(4, 6)\n",
    "print(A)"
   ]
  },
  {
   "cell_type": "code",
   "execution_count": null,
   "metadata": {
    "colab": {
     "base_uri": "https://localhost:8080/"
    },
    "id": "J1EmKFrT5g7B",
    "outputId": "b7fa5e88-5ba0-4b3d-ede8-43411ae10375"
   },
   "outputs": [
    {
     "data": {
      "text/plain": [
       "array([[ 2.5],\n",
       "       [ 8.5],\n",
       "       [14.5],\n",
       "       [20.5]])"
      ]
     },
     "execution_count": 16,
     "metadata": {},
     "output_type": "execute_result"
    }
   ],
   "source": [
    "# Escreva sua solução aqui.\n",
    "A.mean(axis=1, keepdims=True)"
   ]
  },
  {
   "cell_type": "markdown",
   "metadata": {
    "id": "JtgSAAKjUfcO"
   },
   "source": [
    "## Exercício 2.3\n",
    "\n",
    "Seja a matriz $C$ que é a normalização da matriz $A$:\n",
    "$$ C(i,j) = \\frac{A(i,j) - A_{min}}{A_{max} - A_{min}} $$\n",
    "\n",
    "Normalizar a matriz `A` do exercício acima de forma que seus valores fiquem entre 0 e 1."
   ]
  },
  {
   "cell_type": "code",
   "execution_count": null,
   "metadata": {
    "ExecuteTime": {
     "end_time": "2019-12-11T00:00:34.072719Z",
     "start_time": "2019-12-11T00:00:34.036017Z"
    },
    "colab": {
     "base_uri": "https://localhost:8080/"
    },
    "id": "_pDhb2-0eDlS",
    "outputId": "b33fed35-527f-4ef0-847c-5ad20ddee43d"
   },
   "outputs": [
    {
     "data": {
      "text/plain": [
       "array([[0.        , 0.04347826, 0.08695652, 0.13043478, 0.17391304,\n",
       "        0.2173913 ],\n",
       "       [0.26086957, 0.30434783, 0.34782609, 0.39130435, 0.43478261,\n",
       "        0.47826087],\n",
       "       [0.52173913, 0.56521739, 0.60869565, 0.65217391, 0.69565217,\n",
       "        0.73913043],\n",
       "       [0.7826087 , 0.82608696, 0.86956522, 0.91304348, 0.95652174,\n",
       "        1.        ]])"
      ]
     },
     "execution_count": 17,
     "metadata": {},
     "output_type": "execute_result"
    }
   ],
   "source": [
    "# Escreva sua solução aqui.\n",
    "a_min = A.min()\n",
    "a_max = A.max()\n",
    "C = (A - a_min)/(a_max - a_min)\n",
    "C"
   ]
  },
  {
   "cell_type": "markdown",
   "metadata": {
    "id": "GF_P_GARU62m"
   },
   "source": [
    "## Exercício 2.4\n",
    "\n",
    "Modificar o exercício anterior de forma que os valores de cada *coluna* da matriz `A` sejam normalizados entre 0 e 1 independentemente dos valores das outras colunas.\n"
   ]
  },
  {
   "cell_type": "code",
   "execution_count": null,
   "metadata": {
    "colab": {
     "base_uri": "https://localhost:8080/"
    },
    "id": "6NgVzFOYeDla",
    "outputId": "64b01c70-d0cd-4699-90b1-1afa0c1ec788"
   },
   "outputs": [
    {
     "data": {
      "text/plain": [
       "array([[0.        , 0.        , 0.        , 0.        , 0.        ,\n",
       "        0.        ],\n",
       "       [0.33333333, 0.33333333, 0.33333333, 0.33333333, 0.33333333,\n",
       "        0.33333333],\n",
       "       [0.66666667, 0.66666667, 0.66666667, 0.66666667, 0.66666667,\n",
       "        0.66666667],\n",
       "       [1.        , 1.        , 1.        , 1.        , 1.        ,\n",
       "        1.        ]])"
      ]
     },
     "execution_count": 18,
     "metadata": {},
     "output_type": "execute_result"
    }
   ],
   "source": [
    "# Escreva sua solução aqui.\n",
    "# Escreva sua solução aqui.\n",
    "min_cols = A.min(axis=0, keepdims=True)\n",
    "max_cols = A.max(axis=0, keepdims=True)\n",
    "C = (A - min_cols)/(max_cols - min_cols)\n",
    "C"
   ]
  },
  {
   "cell_type": "markdown",
   "metadata": {
    "id": "cbXIXsDIUmtp"
   },
   "source": [
    "## Exercício 2.5\n",
    "\n",
    "Modificar o exercício anterior de forma que os valores de cada *linha* da matriz `A` sejam normalizados entre 0 e 1 independentemente dos valores das outras linhas.\n"
   ]
  },
  {
   "cell_type": "code",
   "execution_count": null,
   "metadata": {
    "ExecuteTime": {
     "end_time": "2019-12-10T17:56:40.413601Z",
     "start_time": "2019-12-10T17:56:40.405056Z"
    },
    "colab": {
     "base_uri": "https://localhost:8080/"
    },
    "id": "i-5Hv8-heDlW",
    "outputId": "76844056-b61d-4271-ed25-f65f6f2582a8"
   },
   "outputs": [
    {
     "data": {
      "text/plain": [
       "array([[0. , 0.2, 0.4, 0.6, 0.8, 1. ],\n",
       "       [0. , 0.2, 0.4, 0.6, 0.8, 1. ],\n",
       "       [0. , 0.2, 0.4, 0.6, 0.8, 1. ],\n",
       "       [0. , 0.2, 0.4, 0.6, 0.8, 1. ]])"
      ]
     },
     "execution_count": 19,
     "metadata": {},
     "output_type": "execute_result"
    }
   ],
   "source": [
    "# Escreva sua solução aqui.\n",
    "min_rows = A.min(axis=1, keepdims=True)\n",
    "max_rows = A.max(axis=1, keepdims=True)\n",
    "C = (A - min_rows)/(max_rows - min_rows)\n",
    "C"
   ]
  },
  {
   "cell_type": "markdown",
   "metadata": {
    "id": "QKnLAyL7zgpa"
   },
   "source": [
    "## Exercício 2.6\n",
    "\n",
    "A [função softmax](https://en.wikipedia.org/wiki/Softmax_function) é bastante usada em apredizado de máquina para converter uma lista de números para uma distribuição de probabilidade, isto é, os números ficarão normalizados entre zero e um e sua soma será igual à um.\n",
    "\n",
    "Implemente a função softmax com suporte para batches, ou seja, o softmax deve ser aplicado a cada linha da matriz. Deve-se usar apenas a biblioteca numpy. Se atente que a exponenciação gera estouro de representação quando os números da entrada são muito grandes. Tente corrigir isto."
   ]
  },
  {
   "cell_type": "code",
   "execution_count": null,
   "metadata": {
    "id": "lA5W9vxNEmOj"
   },
   "outputs": [],
   "source": [
    "import numpy as np\n",
    "\n",
    "\n",
    "def softmax(A):\n",
    "    '''\n",
    "    Aplica a função de softmax à matriz `A`.\n",
    "\n",
    "    Entrada:\n",
    "      `A` é uma matriz M x N, onde M é o número de exemplos a serem processados\n",
    "      independentemente e N é o tamanho de cada exemplo.\n",
    "    \n",
    "    Saída:\n",
    "      Uma matriz M x N, onde a soma de cada linha é igual a um.\n",
    "    '''\n",
    "    # Escreva sua solução aqui.\n",
    "    x = np.exp(A - A.max(1, keepdims=True))\n",
    "    rows_sum = x.sum(axis=1, keepdims=True)\n",
    "    return x / rows_sum # only difference"
   ]
  },
  {
   "cell_type": "markdown",
   "metadata": {
    "id": "ZnBf26PUMCEv"
   },
   "source": [
    "Para evitar overflow no cálculo de softmax podemos subtrair o máximo de cada exemplo antes de calculo da exponenciação:\n",
    "\n",
    "Seja um exemplo $x$ com $n$ elementos. Se subtrairmos os valor máximo de x antes de realizar a exponenciação, evitaremos o problema de valores muito grandes, que podem gerar estouro na exponenciação:\n",
    "$$ \\frac{e^{x_i - max(x)}}{\\sum_{i=1}^{n} e^{x_i - max(x)}} = \\frac{\\frac{e^{x_i}}{e^{max(x)}}}{\\sum_{i=1}^{n} \\frac{e^{x_i}}{e^{max(x)}}} = \\frac{\\frac{1}{e^{max(x)}}}{\\frac{1}{e^{max(x)}}}\\frac{e^{x_i}}{\\sum_{i=1}^{n} e^{x_i}} = \\frac{e^{x_i}}{\\sum_{i=1}^{n} e^{x_i}}\n",
    "$$\n",
    "\n",
    "Logo $softmax(x_i) = softmax(x_i - max(x))$\n"
   ]
  },
  {
   "cell_type": "markdown",
   "metadata": {
    "id": "gpxlbh4ND54q"
   },
   "source": [
    "Mostre que sua implementação está correta usando uma matriz pequena como entrada:"
   ]
  },
  {
   "cell_type": "code",
   "execution_count": null,
   "metadata": {
    "colab": {
     "base_uri": "https://localhost:8080/"
    },
    "id": "L6EZ5ZD7HFao",
    "outputId": "36f37d1b-4a1d-4a8d-e7c5-3c2dd4a13d37"
   },
   "outputs": [
    {
     "data": {
      "text/plain": [
       "array([[0.        , 0.        , 1.        ],\n",
       "       [0.04861082, 0.35918811, 0.59220107]])"
      ]
     },
     "execution_count": 21,
     "metadata": {},
     "output_type": "execute_result"
    }
   ],
   "source": [
    "A = np.array([[0.5, -1, 1000],\n",
    "              [-2,   0, 0.5]])\n",
    "softmax(A)"
   ]
  },
  {
   "cell_type": "markdown",
   "metadata": {
    "id": "9j2uXmKH8HF4"
   },
   "source": [
    "O código a seguir verifica se sua implementação do softmax está correta. \n",
    "- A soma de cada linha de A deve ser 1;\n",
    "- Os valores devem estar entre 0 e 1"
   ]
  },
  {
   "cell_type": "code",
   "execution_count": null,
   "metadata": {
    "colab": {
     "base_uri": "https://localhost:8080/"
    },
    "id": "r-sN4STk7qyN",
    "outputId": "4571aa5a-67cf-4d18-f49e-48c297593fe1"
   },
   "outputs": [
    {
     "data": {
      "text/plain": [
       "True"
      ]
     },
     "execution_count": 22,
     "metadata": {},
     "output_type": "execute_result"
    }
   ],
   "source": [
    "np.allclose(softmax(A).sum(axis=1), 1) and softmax(A).min() >= 0 and softmax(A).max() <= 1"
   ]
  },
  {
   "cell_type": "markdown",
   "metadata": {
    "id": "B5_ZRWRfCZtI"
   },
   "source": [
    "Mostre que sua implementação é eficiente usando uma matriz grande como entrada:"
   ]
  },
  {
   "cell_type": "code",
   "execution_count": null,
   "metadata": {
    "id": "bhUeyrGaJ3J2"
   },
   "outputs": [],
   "source": [
    "A = np.random.uniform(low=-10, high=10, size=(128, 100_000))"
   ]
  },
  {
   "cell_type": "code",
   "execution_count": null,
   "metadata": {
    "colab": {
     "base_uri": "https://localhost:8080/"
    },
    "id": "jaa-C8XkKJin",
    "outputId": "d5a86bb1-b1ca-45ee-db97-706ef6a83dd1"
   },
   "outputs": [
    {
     "name": "stdout",
     "output_type": "stream",
     "text": [
      "1 loop, best of 5: 284 ms per loop\n"
     ]
    }
   ],
   "source": [
    "%%timeit\n",
    "softmax(A)"
   ]
  },
  {
   "cell_type": "code",
   "execution_count": null,
   "metadata": {
    "colab": {
     "base_uri": "https://localhost:8080/"
    },
    "id": "4XE6LaWi81zZ",
    "outputId": "93b61657-6f4e-47fc-8254-1ab88776d7eb"
   },
   "outputs": [
    {
     "data": {
      "text/plain": [
       "True"
      ]
     },
     "execution_count": 25,
     "metadata": {},
     "output_type": "execute_result"
    }
   ],
   "source": [
    "SM = softmax(A)\n",
    "np.allclose(SM.sum(axis=1), 1) and SM.min() >= 0 and SM.max() <= 1"
   ]
  },
  {
   "cell_type": "markdown",
   "metadata": {
    "id": "Flr1lI5o-HpG"
   },
   "source": [
    "## Exercício 2.7\n",
    "\n",
    "A codificação one-hot é usada para codificar entradas categóricas. É uma codificação onde apenas um bit é 1 e os demais são zero, conforme a tabela a seguir.\n",
    "\n",
    "| Decimal | Binary | One-hot\n",
    "| ------- | ------ | -------\n",
    "| 0 | 000    | 1 0 0 0 0 0 0 0\n",
    "| 1 | 001    | 0 1 0 0 0 0 0 0\n",
    "| 2 | 010    | 0 0 1 0 0 0 0 0\n",
    "| 3 | 011    | 0 0 0 1 0 0 0 0\n",
    "| 4 | 100    | 0 0 0 0 1 0 0 0\n",
    "| 5 | 101    | 0 0 0 0 0 1 0 0\n",
    "| 6 | 110    | 0 0 0 0 0 0 1 0\n",
    "| 7 | 111    | 0 0 0 0 0 0 0 1"
   ]
  },
  {
   "cell_type": "markdown",
   "metadata": {
    "id": "1CqXP_5ABbfo"
   },
   "source": [
    "Implemente a função one_hot(y, n_classes) que codifique o vetor de inteiros y que possuem valores entre 0 e n_classes-1.\n"
   ]
  },
  {
   "cell_type": "code",
   "execution_count": null,
   "metadata": {
    "id": "la-02w7qCH7L"
   },
   "outputs": [],
   "source": [
    "def one_hot(y, n_classes):\n",
    "  # Escreva seu código aqui.\n",
    "  eye = np.eye(n_classes)\n",
    "  return eye[y] "
   ]
  },
  {
   "cell_type": "code",
   "execution_count": null,
   "metadata": {
    "colab": {
     "base_uri": "https://localhost:8080/"
    },
    "id": "zf5zyZO5Aiz_",
    "outputId": "eb18abbf-884f-4a91-ee8d-cddf63d9d156"
   },
   "outputs": [
    {
     "name": "stdout",
     "output_type": "stream",
     "text": [
      "[0 0 3 1 6 7 4 5 3 3]\n",
      "[[1. 0. 0. 0. 0. 0. 0. 0. 0.]\n",
      " [1. 0. 0. 0. 0. 0. 0. 0. 0.]\n",
      " [0. 0. 0. 1. 0. 0. 0. 0. 0.]\n",
      " [0. 1. 0. 0. 0. 0. 0. 0. 0.]\n",
      " [0. 0. 0. 0. 0. 0. 1. 0. 0.]\n",
      " [0. 0. 0. 0. 0. 0. 0. 1. 0.]\n",
      " [0. 0. 0. 0. 1. 0. 0. 0. 0.]\n",
      " [0. 0. 0. 0. 0. 1. 0. 0. 0.]\n",
      " [0. 0. 0. 1. 0. 0. 0. 0. 0.]\n",
      " [0. 0. 0. 1. 0. 0. 0. 0. 0.]]\n"
     ]
    },
    {
     "name": "stderr",
     "output_type": "stream",
     "text": [
      "/usr/local/lib/python3.7/dist-packages/ipykernel_launcher.py:3: DeprecationWarning: `np.int` is a deprecated alias for the builtin `int`. To silence this warning, use `int` by itself. Doing this will not modify any behavior and is safe. When replacing `np.int`, you may wish to use e.g. `np.int64` or `np.int32` to specify the precision. If you wish to review your current use, check the release note link for additional information.\n",
      "Deprecated in NumPy 1.20; for more details and guidance: https://numpy.org/devdocs/release/1.20.0-notes.html#deprecations\n",
      "  This is separate from the ipykernel package so we can avoid doing imports until\n"
     ]
    }
   ],
   "source": [
    "N_CLASSES = 9\n",
    "N_SAMPLES = 10\n",
    "y = (np.random.rand((N_SAMPLES)) * N_CLASSES).astype(np.int)\n",
    "print(y)\n",
    "print(one_hot(y, N_CLASSES))"
   ]
  },
  {
   "cell_type": "markdown",
   "metadata": {
    "id": "6nwuKnQUCzve"
   },
   "source": [
    "Mostre que sua implementação é eficiente usando uma matriz grande como entrada:"
   ]
  },
  {
   "cell_type": "code",
   "execution_count": null,
   "metadata": {
    "colab": {
     "base_uri": "https://localhost:8080/"
    },
    "id": "uwuFy5rWC2tA",
    "outputId": "d8c38218-c102-4028-82a6-4968eb27a2f9"
   },
   "outputs": [
    {
     "name": "stderr",
     "output_type": "stream",
     "text": [
      "/usr/local/lib/python3.7/dist-packages/ipykernel_launcher.py:3: DeprecationWarning: `np.int` is a deprecated alias for the builtin `int`. To silence this warning, use `int` by itself. Doing this will not modify any behavior and is safe. When replacing `np.int`, you may wish to use e.g. `np.int64` or `np.int32` to specify the precision. If you wish to review your current use, check the release note link for additional information.\n",
      "Deprecated in NumPy 1.20; for more details and guidance: https://numpy.org/devdocs/release/1.20.0-notes.html#deprecations\n",
      "  This is separate from the ipykernel package so we can avoid doing imports until\n"
     ]
    }
   ],
   "source": [
    "N_SAMPLES = 100_000\n",
    "N_CLASSES = 1_000\n",
    "y = (np.random.rand((N_SAMPLES)) * N_CLASSES).astype(np.int)"
   ]
  },
  {
   "cell_type": "code",
   "execution_count": null,
   "metadata": {
    "colab": {
     "base_uri": "https://localhost:8080/"
    },
    "id": "7azMtF7wDJ2_",
    "outputId": "c569054e-a4ad-49a1-befd-ad4eef681926"
   },
   "outputs": [
    {
     "name": "stdout",
     "output_type": "stream",
     "text": [
      "1 loop, best of 5: 140 ms per loop\n"
     ]
    }
   ],
   "source": [
    "%%timeit\n",
    "one_hot(y, N_CLASSES)"
   ]
  },
  {
   "cell_type": "markdown",
   "metadata": {
    "id": "lqMroZay2ubi"
   },
   "source": [
    "## Exercício 2.8\n",
    "\n",
    "Implemente uma classe que normalize um array de pontos flutuantes `array_a` para a mesma média e desvio padrão de um outro array `array_b`, conforme exemplo abaixo:\n",
    "```\n",
    "array_a = np.array([-1, 1.5, 0])\n",
    "array_b = np.array([1.4, 0.8, 0.3, 2.5])\n",
    "normalize = Normalizer(array_b)\n",
    "normalized_array = normalize(array_a)\n",
    "print(normalized_array)  # Deve imprimir [0.3187798  2.31425165 1.11696854]\n",
    "```"
   ]
  },
  {
   "cell_type": "code",
   "execution_count": null,
   "metadata": {
    "id": "qaedJ5Cf5Oy2"
   },
   "outputs": [],
   "source": [
    "# Escreva seu código aqui.\n",
    "# Escreva seu código aqui.\n",
    "class Normalizer:\n",
    "  \n",
    "  def __init__(self, lst: list):\n",
    "    self.new_mean, self.new_std = np.mean(lst), np.std(lst)\n",
    "\n",
    "  def __call__(self, lst: list):\n",
    "    mean, std = np.mean(lst), np.std(lst)\n",
    "    new_array = (lst - mean)/std\n",
    "    return (new_array*self.new_std)+self.new_mean"
   ]
  },
  {
   "cell_type": "markdown",
   "metadata": {
    "id": "dlkNNU6h5RbR"
   },
   "source": [
    "Mostre que seu código está correto com o exemplo abaixo:"
   ]
  },
  {
   "cell_type": "code",
   "execution_count": null,
   "metadata": {
    "colab": {
     "base_uri": "https://localhost:8080/"
    },
    "id": "Gad6zsbh5a0D",
    "outputId": "10e50ed0-0d04-43d3-8f56-0e2f01eaaae9"
   },
   "outputs": [
    {
     "name": "stdout",
     "output_type": "stream",
     "text": [
      "[0.3187798  2.31425165 1.11696854]\n"
     ]
    }
   ],
   "source": [
    "array_a = [-1, 1.5, 0]\n",
    "array_b = [1.4, 0.8, 0.3, 2.5]\n",
    "normalize = Normalizer(array_b)\n",
    "normalized_array = normalize(array_a)\n",
    "print(normalized_array)"
   ]
  },
  {
   "cell_type": "markdown",
   "metadata": {
    "id": "vrGVQFUYI_LP"
   },
   "source": [
    "# Parte 3:\n",
    "\n",
    "##Exercícios Pytorch: Grafo Computacional e Gradientes\n",
    "\n",
    "Nesta parte pode-se usar quaisquer bibliotecas."
   ]
  },
  {
   "cell_type": "markdown",
   "metadata": {
    "id": "BIlQdKAuCZtR"
   },
   "source": [
    "Um dos principais fundamentos para que o PyTorch seja adequado para deep learning é a sua habilidade de calcular o gradiente automaticamente a partir da expressões definidas. Essa facilidade é implementada através do cálculo automático do gradiente e construção dinâmica do grafo computacional."
   ]
  },
  {
   "cell_type": "markdown",
   "metadata": {
    "id": "ZF_-dJ2nCZtT"
   },
   "source": [
    "## Grafo computacional\n",
    "\n",
    "Seja um exemplo simples de uma função de perda J dada pela Soma dos Erros ao Quadrado (SEQ - Sum of Squared Errors): \n",
    "$$ J = \\sum_i (x_i w - y_i)^2 $$\n",
    "que pode ser reescrita como:\n",
    "$$ \\hat{y_i} = x_i w $$\n",
    "$$ e_i = \\hat{y_i} - y_i $$\n",
    "$$ e2_i = e_i^2 $$\n",
    "$$ J = \\sum_i e2_i $$\n",
    "\n",
    "As redes neurais são treinadas através da minimização de uma função de perda usando o método do gradiente descendente. Para ajustar o parâmetro $w$ precisamos calcular o gradiente $  \\frac{ \\partial J}{\\partial w} $. Usando a\n",
    "regra da cadeia podemos escrever:\n",
    "$$ \\frac{ \\partial J}{\\partial w} = \\frac{ \\partial J}{\\partial e2_i} \\frac{ \\partial e2_i}{\\partial e_i} \\frac{ \\partial e_i}{\\partial \\hat{y_i} } \\frac{ \\partial \\hat{y_i}}{\\partial w}$$ "
   ]
  },
  {
   "cell_type": "markdown",
   "metadata": {
    "id": "jboejVQMCZtU"
   },
   "source": [
    "```\n",
    "    y_pred = x * w\n",
    "    e = y_pred - y\n",
    "    e2 = e**2\n",
    "    J = e2.sum()\n",
    "```"
   ]
  },
  {
   "cell_type": "markdown",
   "metadata": {
    "id": "n7JmU6qhc2Y2"
   },
   "source": [
    "As quatro expressões acima, para o cálculo do J podem ser representadas pelo grafo computacional visualizado a seguir: os círculos são as variáveis (tensores), os quadrados são as operações, os números em preto são os cálculos durante a execução das quatro expressões para calcular o J (forward, predict). O cálculo do gradiente, mostrado em vermelho, é calculado pela regra da cadeia, de trás para frente (backward)."
   ]
  },
  {
   "cell_type": "markdown",
   "metadata": {
    "id": "KeeEBKl4CZtV"
   },
   "source": [
    "<img src=\"https://raw.githubusercontent.com/robertoalotufo/files/master/figures/GrafoComputacional.png\" width=\"600pt\"/>"
   ]
  },
  {
   "cell_type": "markdown",
   "metadata": {
    "id": "8yZun7wrCZtX"
   },
   "source": [
    "Para entender melhor o funcionamento do grafo computacional com os tensores, recomenda-se leitura em:\n",
    "\n",
    "https://pytorch.org/docs/stable/notes/autograd.html"
   ]
  },
  {
   "cell_type": "code",
   "execution_count": null,
   "metadata": {
    "ExecuteTime": {
     "end_time": "2019-12-11T00:23:00.431853Z",
     "start_time": "2019-12-11T00:23:00.414813Z"
    },
    "id": "HlT2d-4fCZtZ"
   },
   "outputs": [],
   "source": [
    "import torch"
   ]
  },
  {
   "cell_type": "code",
   "execution_count": null,
   "metadata": {
    "ExecuteTime": {
     "end_time": "2019-12-11T00:23:00.863228Z",
     "start_time": "2019-12-11T00:23:00.844457Z"
    },
    "colab": {
     "base_uri": "https://localhost:8080/",
     "height": 35
    },
    "id": "xX0QwUduCZtf",
    "outputId": "5974e014-d660-49c1-9d94-df6de06daec8"
   },
   "outputs": [
    {
     "data": {
      "application/vnd.google.colaboratory.intrinsic+json": {
       "type": "string"
      },
      "text/plain": [
       "'1.10.0+cu111'"
      ]
     },
     "execution_count": 33,
     "metadata": {},
     "output_type": "execute_result"
    }
   ],
   "source": [
    "torch.__version__"
   ]
  },
  {
   "cell_type": "markdown",
   "metadata": {
    "id": "vsqzALS4CZtl"
   },
   "source": [
    "**Tensor com atributo .requires_grad=True**\n",
    "\n",
    "Quando um tensor possui o atributo `requires_grad` como verdadeiro, qualquer expressão que utilizar esse tensor irá construir um grafo computacional para permitir posteriormente, após calcular a função a ser derivada, poder usar a regra da cadeia e calcular o gradiente da função em termos dos tensores que possuem o atributo `requires_grad`.\n"
   ]
  },
  {
   "cell_type": "code",
   "execution_count": null,
   "metadata": {
    "ExecuteTime": {
     "end_time": "2019-09-29T03:07:22.117010Z",
     "start_time": "2019-09-29T03:07:22.041861Z"
    },
    "colab": {
     "base_uri": "https://localhost:8080/"
    },
    "id": "foaAb94aCZtm",
    "outputId": "84ca9cea-b168-4b18-8701-737ee5dccb90"
   },
   "outputs": [
    {
     "data": {
      "text/plain": [
       "tensor([0., 2., 4., 6.])"
      ]
     },
     "execution_count": 34,
     "metadata": {},
     "output_type": "execute_result"
    }
   ],
   "source": [
    "y = torch.arange(0, 8, 2).float()\n",
    "y"
   ]
  },
  {
   "cell_type": "code",
   "execution_count": null,
   "metadata": {
    "ExecuteTime": {
     "end_time": "2019-09-29T03:07:28.610934Z",
     "start_time": "2019-09-29T03:07:28.598223Z"
    },
    "colab": {
     "base_uri": "https://localhost:8080/"
    },
    "id": "no6SdSyICZtr",
    "outputId": "1f0e60bb-b970-40e0-cec9-520dcb399e6a"
   },
   "outputs": [
    {
     "data": {
      "text/plain": [
       "tensor([0., 1., 2., 3.])"
      ]
     },
     "execution_count": 35,
     "metadata": {},
     "output_type": "execute_result"
    }
   ],
   "source": [
    "x = torch.arange(0, 4).float()\n",
    "x"
   ]
  },
  {
   "cell_type": "code",
   "execution_count": null,
   "metadata": {
    "ExecuteTime": {
     "end_time": "2019-09-29T03:07:31.523762Z",
     "start_time": "2019-09-29T03:07:31.497683Z"
    },
    "colab": {
     "base_uri": "https://localhost:8080/"
    },
    "id": "eL_i1mwGCZtw",
    "outputId": "a5e66633-7c5f-45cd-c251-89d3b82b8266"
   },
   "outputs": [
    {
     "data": {
      "text/plain": [
       "tensor([1.], requires_grad=True)"
      ]
     },
     "execution_count": 36,
     "metadata": {},
     "output_type": "execute_result"
    }
   ],
   "source": [
    "w = torch.ones(1, requires_grad=True)\n",
    "w"
   ]
  },
  {
   "cell_type": "markdown",
   "metadata": {
    "id": "qjEl-0l7CZt0"
   },
   "source": [
    "## Cálculo automático do gradiente da função perda J"
   ]
  },
  {
   "cell_type": "markdown",
   "metadata": {
    "id": "8pUh-SCnCZt1"
   },
   "source": [
    "Seja a expressão: $$ J = \\sum_i ((x_i  w) - y_i)^2 $$\n",
    "\n",
    "Queremos calcular a derivada de $J$ em relação a $w$."
   ]
  },
  {
   "cell_type": "markdown",
   "metadata": {
    "id": "eMwwVtJ1CZt2"
   },
   "source": [
    "## Forward pass\n",
    "\n",
    "Durante a execução da expressão, o grafo computacional é criado. Compare os valores de cada parcela calculada com os valores em preto da figura ilustrativa do grafo computacional."
   ]
  },
  {
   "cell_type": "code",
   "execution_count": null,
   "metadata": {
    "ExecuteTime": {
     "end_time": "2019-09-29T03:07:36.290122Z",
     "start_time": "2019-09-29T03:07:36.273229Z"
    },
    "colab": {
     "base_uri": "https://localhost:8080/"
    },
    "id": "zp2aK4YhCZt3",
    "outputId": "35d10f19-287b-4cbd-d7e3-ec9050b2191c"
   },
   "outputs": [
    {
     "name": "stdout",
     "output_type": "stream",
     "text": [
      "y_pred = tensor([0., 1., 2., 3.], grad_fn=<MulBackward0>)\n",
      "e = tensor([ 0., -1., -2., -3.], grad_fn=<SubBackward0>)\n",
      "e2 = tensor([0., 1., 4., 9.], grad_fn=<PowBackward0>)\n",
      "J = tensor(14., grad_fn=<SumBackward0>)\n"
     ]
    }
   ],
   "source": [
    "# predict (forward)\n",
    "y_pred = x * w; print('y_pred =', y_pred)\n",
    "\n",
    "# cálculo da perda J: loss\n",
    "e = y_pred - y; print('e =',e)\n",
    "e2 = e.pow(2) ; print('e2 =', e2)\n",
    "J = e2.sum()  ; print('J =', J)"
   ]
  },
  {
   "cell_type": "markdown",
   "metadata": {
    "id": "XC96wB7PCZt8"
   },
   "source": [
    "## Backward pass"
   ]
  },
  {
   "cell_type": "markdown",
   "metadata": {
    "ExecuteTime": {
     "end_time": "2017-10-04T15:55:45.308858",
     "start_time": "2017-10-04T15:55:45.304654"
    },
    "id": "kKbf4D0CCZt-"
   },
   "source": [
    "O `backward()` varre o grafo computacional a partir da variável a ele associada (raiz) e calcula o gradiente para todos os tensores que possuem o atributo `requires_grad` como verdadeiro.\n",
    "Observe que os tensores que tiverem o atributo `requires_grad` serão sempre folhas no grafo computacional.\n",
    "O `backward()` destroi o grafo após sua execução. Esse comportamento é padrão no PyTorch. \n",
    "\n",
    "A título ilustrativo, se quisermos depurar os gradientes dos nós que não são folhas no grafo computacional, precisamos primeiro invocar `retain_grad()` em cada um desses nós, como a seguir. Entretanto nos exemplos reais não há necessidade de verificar o gradiente desses nós."
   ]
  },
  {
   "cell_type": "code",
   "execution_count": null,
   "metadata": {
    "id": "f-CjLPu6clVo"
   },
   "outputs": [],
   "source": [
    "e2.retain_grad()\n",
    "e.retain_grad()\n",
    "y_pred.retain_grad()"
   ]
  },
  {
   "cell_type": "markdown",
   "metadata": {
    "id": "WtsZS2Bicof-"
   },
   "source": [
    "E agora calculamos os gradientes com o `backward()`.\n",
    "\n",
    "w.grad é o gradiente de J em relação a w."
   ]
  },
  {
   "cell_type": "code",
   "execution_count": null,
   "metadata": {
    "ExecuteTime": {
     "end_time": "2019-09-29T03:07:40.267334Z",
     "start_time": "2019-09-29T03:07:40.247422Z"
    },
    "colab": {
     "base_uri": "https://localhost:8080/"
    },
    "id": "Z1lnkb0GCZt_",
    "outputId": "f914762d-61b6-4f4f-98dd-7ec321b83954"
   },
   "outputs": [
    {
     "name": "stdout",
     "output_type": "stream",
     "text": [
      "tensor([-28.])\n"
     ]
    }
   ],
   "source": [
    "if w.grad: w.grad.zero_()\n",
    "J.backward()\n",
    "print(w.grad)"
   ]
  },
  {
   "cell_type": "markdown",
   "metadata": {
    "id": "N1xYDPR_uOcZ"
   },
   "source": [
    "Mostramos agora os gradientes que estão grafados em vermelho no grafo computacional:"
   ]
  },
  {
   "cell_type": "code",
   "execution_count": null,
   "metadata": {
    "colab": {
     "base_uri": "https://localhost:8080/"
    },
    "id": "Enuk2tf0sDyO",
    "outputId": "656e10c0-a025-4db1-9bf6-ef5b3c7b8e7b"
   },
   "outputs": [
    {
     "name": "stdout",
     "output_type": "stream",
     "text": [
      "tensor([1., 1., 1., 1.])\n",
      "tensor([ 0., -2., -4., -6.])\n",
      "tensor([ 0., -2., -4., -6.])\n"
     ]
    }
   ],
   "source": [
    "print(e2.grad)\n",
    "print(e.grad)\n",
    "print(y_pred.grad)"
   ]
  },
  {
   "cell_type": "markdown",
   "metadata": {
    "id": "LsOThnt8fDJV"
   },
   "source": [
    "##Exercício 3.1\n",
    "Calcule o mesmo gradiente ilustrado no exemplo anterior usando a regra das diferenças finitas, de acordo com a equação a seguir, utilizando um valor de $\\Delta w$ bem pequeno.\n",
    "\n",
    "$$ \\frac{\\partial J}{\\partial w} = \\frac{J(w + \\Delta w) - J(w - \\Delta w)}{2 \\Delta w} $$"
   ]
  },
  {
   "cell_type": "code",
   "execution_count": null,
   "metadata": {
    "colab": {
     "base_uri": "https://localhost:8080/"
    },
    "hidden": true,
    "id": "62nZAfUoCZu5",
    "outputId": "cade08de-454a-4cf3-b266-6738fa60be46"
   },
   "outputs": [
    {
     "name": "stdout",
     "output_type": "stream",
     "text": [
      "grad= tensor(-27.9999)\n"
     ]
    }
   ],
   "source": [
    "def J_func(w, x, y):\n",
    "    # programe a função J_func, para facilitar\n",
    "    return ((x*w-y)**2).sum()\n",
    "\n",
    "# Calcule o gradiente usando a regra diferenças finitas\n",
    "# Confira com o valor já calculado anteriormente\n",
    "x = torch.arange(0, 4).float()\n",
    "y = torch.arange(0, 8, 2).float()\n",
    "w = torch.ones(1)\n",
    "dw = 1e-4\n",
    "grad = (J_func(w+dw, x, y) - J_func(w-dw, x, y))/(2*dw)\n",
    "print('grad=', grad)"
   ]
  },
  {
   "cell_type": "markdown",
   "metadata": {
    "id": "O_Sx1QXZxJ3u"
   },
   "source": [
    "##Exercício 3.2\n",
    "\n",
    "Minimizando $J$ pelo gradiente descendente\n",
    "\n",
    "$$ w_{k+1} = w_k - \\lambda \\frac {\\partial J}{\\partial w} $$\n",
    "\n",
    "Supondo que valor inicial ($k=0$) $w_0 = 1$, use learning rate $\\lambda = 0.01$ para calcular o valor do novo $w_{20}$, ou seja, fazendo 20 atualizações de gradientes. Deve-se usar a função `J_func` criada no exercício anterior.\n",
    "\n",
    "Confira se o valor do primeiro gradiente está de acordo com os valores já calculado acima"
   ]
  },
  {
   "cell_type": "code",
   "execution_count": null,
   "metadata": {
    "colab": {
     "base_uri": "https://localhost:8080/",
     "height": 1000
    },
    "id": "PNszCOED1Wtu",
    "outputId": "9b0707b6-1873-4a25-ad59-fe6f26677947"
   },
   "outputs": [
    {
     "name": "stdout",
     "output_type": "stream",
     "text": [
      "i = 0\n",
      "J= tensor(14.)\n",
      "grad = tensor(-27.9999)\n",
      "w = tensor([1.2800])\n",
      "i = 1\n",
      "J= tensor(7.2576)\n",
      "grad = tensor(-20.1607)\n",
      "w = tensor([1.4816])\n",
      "i = 2\n",
      "J= tensor(3.7623)\n",
      "grad = tensor(-14.5137)\n",
      "w = tensor([1.6267])\n",
      "i = 3\n",
      "J= tensor(1.9505)\n",
      "grad = tensor(-10.4505)\n",
      "w = tensor([1.7312])\n",
      "i = 4\n",
      "J= tensor(1.0112)\n",
      "grad = tensor(-7.5281)\n",
      "w = tensor([1.8065])\n",
      "i = 5\n",
      "J= tensor(0.5240)\n",
      "grad = tensor(-5.4196)\n",
      "w = tensor([1.8607])\n",
      "i = 6\n",
      "J= tensor(0.2716)\n",
      "grad = tensor(-3.9014)\n",
      "w = tensor([1.8997])\n",
      "i = 7\n",
      "J= tensor(0.1407)\n",
      "grad = tensor(-2.8086)\n",
      "w = tensor([1.9278])\n",
      "i = 8\n",
      "J= tensor(0.0729)\n",
      "grad = tensor(-2.0218)\n",
      "w = tensor([1.9480])\n",
      "i = 9\n",
      "J= tensor(0.0378)\n",
      "grad = tensor(-1.4555)\n",
      "w = tensor([1.9626])\n",
      "i = 10\n",
      "J= tensor(0.0196)\n",
      "grad = tensor(-1.0472)\n",
      "w = tensor([1.9731])\n",
      "i = 11\n",
      "J= tensor(0.0102)\n",
      "grad = tensor(-0.7540)\n",
      "w = tensor([1.9806])\n",
      "i = 12\n",
      "J= tensor(0.0053)\n",
      "grad = tensor(-0.5432)\n",
      "w = tensor([1.9860])\n",
      "i = 13\n",
      "J= tensor(0.0027)\n",
      "grad = tensor(-0.3910)\n",
      "w = tensor([1.9900])\n",
      "i = 14\n",
      "J= "
     ]
    },
    {
     "name": "stderr",
     "output_type": "stream",
     "text": [
      "No handles with labels found to put in legend.\n"
     ]
    },
    {
     "name": "stdout",
     "output_type": "stream",
     "text": [
      "tensor(0.0014)\n",
      "grad = tensor(-0.2814)\n",
      "w = tensor([1.9928])\n",
      "i = 15\n",
      "J= tensor(0.0007)\n",
      "grad = tensor(-0.2027)\n",
      "w = tensor([1.9948])\n",
      "i = 16\n",
      "J= tensor(0.0004)\n",
      "grad = tensor(-0.1458)\n",
      "w = tensor([1.9962])\n",
      "i = 17\n",
      "J= tensor(0.0002)\n",
      "grad = tensor(-0.1051)\n",
      "w = tensor([1.9973])\n",
      "i = 18\n",
      "J= tensor(0.0001)\n",
      "grad = tensor(-0.0756)\n",
      "w = tensor([1.9981])\n",
      "i = 19\n",
      "J= tensor(5.2911e-05)\n",
      "grad = tensor(-0.0544)\n",
      "w = tensor([1.9986])\n"
     ]
    },
    {
     "data": {
      "image/png": "[encoded data removed]",
      "text/plain": [
       "<Figure size 1152x360 with 1 Axes>"
      ]
     },
     "metadata": {
      "needs_background": "light"
     },
     "output_type": "display_data"
    }
   ],
   "source": [
    "learning_rate = 0.01\n",
    "iteracoes = 20\n",
    "\n",
    "x = torch.arange(0, 4).float()\n",
    "y = torch.arange(0, 8, 2).float()\n",
    "w = torch.ones(1)\n",
    "\n",
    "Js = []\n",
    "grads = []\n",
    "for i in range(iteracoes):\n",
    "    print('i =', i)\n",
    "    J = J_func(w, x, y)\n",
    "    Js.append(J)\n",
    "    print('J=', J)\n",
    "    grad = (J_func(w+dw, x, y) - J_func(w-dw, x, y))/(2*dw)\n",
    "    grads.append(grad)\n",
    "    print('grad =',grad)\n",
    "    w = w - learning_rate*grad\n",
    "    print('w =', w)\n",
    "\n",
    "\n",
    "import matplotlib.pyplot as plt\n",
    "\n",
    "plt.figure(figsize=(16,5))\n",
    "plt.scatter(np.arange(len(Js)),Js, color=\"black\")\n",
    "plt.plot(Js, lw=2, color=\"red\")\n",
    "plt.legend()\n",
    "plt.title('Custo vs iteração usando diferenças finitas', fontsize=20)\n",
    "plt.xlabel('Iteração', fontsize=16)\n",
    "plt.ylabel('Custo (J)', fontsize=16)\n",
    "plt.show()\n",
    "# Plote o gráfico da loss J pela iteração i"
   ]
  },
  {
   "cell_type": "markdown",
   "metadata": {
    "id": "JBXxBmWGK3IU"
   },
   "source": [
    "##Exercício 3.3\n",
    "\n",
    "Repita o exercício 2 mas usando agora o calculando o gradiente usando o método backward() do pytorch. Confira se o primeiro valor do gradiente está de acordo com os valores anteriores. Execute essa próxima célula duas vezes. Os valores devem ser iguais.\n"
   ]
  },
  {
   "cell_type": "code",
   "execution_count": null,
   "metadata": {
    "colab": {
     "base_uri": "https://localhost:8080/",
     "height": 1000
    },
    "id": "lMP4d5vtHtqy",
    "outputId": "f7318a5b-cce7-47bf-e989-d8166186a276"
   },
   "outputs": [
    {
     "name": "stderr",
     "output_type": "stream",
     "text": [
      "No handles with labels found to put in legend.\n"
     ]
    },
    {
     "name": "stdout",
     "output_type": "stream",
     "text": [
      "i = 0\n",
      "J= tensor(14., grad_fn=<SumBackward0>)\n",
      "grad = tensor([-28.])\n",
      "w = tensor([1.2800], grad_fn=<SubBackward0>)\n",
      "i = 1\n",
      "J= tensor(7.2576, grad_fn=<SumBackward0>)\n",
      "grad = tensor([-20.1600])\n",
      "w = tensor([1.4816], grad_fn=<SubBackward0>)\n",
      "i = 2\n",
      "J= tensor(3.7623, grad_fn=<SumBackward0>)\n",
      "grad = tensor([-14.5152])\n",
      "w = tensor([1.6268], grad_fn=<SubBackward0>)\n",
      "i = 3\n",
      "J= tensor(1.9504, grad_fn=<SumBackward0>)\n",
      "grad = tensor([-10.4509])\n",
      "w = tensor([1.7313], grad_fn=<SubBackward0>)\n",
      "i = 4\n",
      "J= tensor(1.0111, grad_fn=<SumBackward0>)\n",
      "grad = tensor([-7.5247])\n",
      "w = tensor([1.8065], grad_fn=<SubBackward0>)\n",
      "i = 5\n",
      "J= tensor(0.5241, grad_fn=<SumBackward0>)\n",
      "grad = tensor([-5.4178])\n",
      "w = tensor([1.8607], grad_fn=<SubBackward0>)\n",
      "i = 6\n",
      "J= tensor(0.2717, grad_fn=<SumBackward0>)\n",
      "grad = tensor([-3.9008])\n",
      "w = tensor([1.8997], grad_fn=<SubBackward0>)\n",
      "i = 7\n",
      "J= tensor(0.1409, grad_fn=<SumBackward0>)\n",
      "grad = tensor([-2.8086])\n",
      "w = tensor([1.9278], grad_fn=<SubBackward0>)\n",
      "i = 8\n",
      "J= tensor(0.0730, grad_fn=<SumBackward0>)\n",
      "grad = tensor([-2.0222])\n",
      "w = tensor([1.9480], grad_fn=<SubBackward0>)\n",
      "i = 9\n",
      "J= tensor(0.0379, grad_fn=<SumBackward0>)\n",
      "grad = tensor([-1.4560])\n",
      "w = tensor([1.9626], grad_fn=<SubBackward0>)\n",
      "i = 10\n",
      "J= tensor(0.0196, grad_fn=<SumBackward0>)\n",
      "grad = tensor([-1.0483])\n",
      "w = tensor([1.9730], grad_fn=<SubBackward0>)\n",
      "i = 11\n",
      "J= tensor(0.0102, grad_fn=<SumBackward0>)\n",
      "grad = tensor([-0.7548])\n",
      "w = tensor([1.9806], grad_fn=<SubBackward0>)\n",
      "i = 12\n",
      "J= tensor(0.0053, grad_fn=<SumBackward0>)\n",
      "grad = tensor([-0.5434])\n",
      "w = tensor([1.9860], grad_fn=<SubBackward0>)\n",
      "i = 13\n",
      "J= tensor(0.0027, grad_fn=<SumBackward0>)\n",
      "grad = tensor([-0.3913])\n",
      "w = tensor([1.9899], grad_fn=<SubBackward0>)\n",
      "i = 14\n",
      "J= tensor(0.0014, grad_fn=<SumBackward0>)\n",
      "grad = tensor([-0.2817])\n",
      "w = tensor([1.9928], grad_fn=<SubBackward0>)\n",
      "i = 15\n",
      "J= tensor(0.0007, grad_fn=<SumBackward0>)\n",
      "grad = tensor([-0.2028])\n",
      "w = tensor([1.9948], grad_fn=<SubBackward0>)\n",
      "i = 16\n",
      "J= tensor(0.0004, grad_fn=<SumBackward0>)\n",
      "grad = tensor([-0.1460])\n",
      "w = tensor([1.9962], grad_fn=<SubBackward0>)\n",
      "i = 17\n",
      "J= tensor(0.0002, grad_fn=<SumBackward0>)\n",
      "grad = tensor([-0.1052])\n",
      "w = tensor([1.9973], grad_fn=<SubBackward0>)\n",
      "i = 18\n",
      "J= tensor(0.0001, grad_fn=<SumBackward0>)\n",
      "grad = tensor([-0.0757])\n",
      "w = tensor([1.9981], grad_fn=<SubBackward0>)\n",
      "i = 19\n",
      "J= tensor(5.3059e-05, grad_fn=<SumBackward0>)\n",
      "grad = tensor([-0.0545])\n",
      "w = tensor([1.9986], grad_fn=<SubBackward0>)\n"
     ]
    },
    {
     "data": {
      "image/png": "[encoded data removed]",
      "text/plain": [
       "<Figure size 1152x360 with 1 Axes>"
      ]
     },
     "metadata": {
      "needs_background": "light"
     },
     "output_type": "display_data"
    }
   ],
   "source": [
    "learning_rate = 0.01\n",
    "iteracoes = 20\n",
    "\n",
    "x = torch.arange(0, 4).float()\n",
    "y = torch.arange(0, 8, 2).float()\n",
    "w = torch.ones(1, requires_grad=True)\n",
    "\n",
    "Js_autograd = []\n",
    "grads_autograd = []\n",
    "for i in range(iteracoes):\n",
    "    print('i =', i)\n",
    "    J = J_func(w, x, y)\n",
    "    Js_autograd.append(J.item())\n",
    "    print('J=', J)\n",
    "    if w.grad: w.grad.zero_()\n",
    "    J.backward()\n",
    "    grad = w.grad\n",
    "    grads_autograd.append(grad.item())\n",
    "    print('grad =',grad)\n",
    "    w = w - learning_rate*grad\n",
    "    w.retain_grad()\n",
    "    print('w =', w)\n",
    "\n",
    "plt.figure(figsize=(16,5))\n",
    "plt.scatter(np.arange(len(Js)),Js, color=\"black\")\n",
    "plt.plot(Js_autograd, lw=2, color=\"red\")\n",
    "plt.legend()\n",
    "plt.title('Custo vs iteração usando autograd', fontsize=20)\n",
    "plt.xlabel('Iteração', fontsize=16)\n",
    "plt.ylabel('Custo (J)', fontsize=16)\n",
    "plt.show()\n",
    "# Plote aqui a loss pela iteração"
   ]
  },
  {
   "cell_type": "code",
   "execution_count": null,
   "metadata": {
    "colab": {
     "base_uri": "https://localhost:8080/"
    },
    "id": "yO8y_MCZF11U",
    "outputId": "e6fa4bba-8770-461d-fee6-af48add20807"
   },
   "outputs": [
    {
     "data": {
      "text/plain": [
       "array([-1.22070312e-04,  6.73294067e-04, -1.46675110e-03, -4.60624695e-04,\n",
       "        3.38983536e-03,  1.78623199e-03,  6.29186630e-04, -2.14576721e-06,\n",
       "       -4.20808792e-04, -5.12957573e-04, -1.06787682e-03, -7.47621059e-04,\n",
       "       -2.42173672e-04, -2.37673521e-04, -3.63409519e-04, -1.52483582e-04,\n",
       "       -2.12103128e-04, -9.19327140e-05, -1.17644668e-04, -8.09133053e-05])"
      ]
     },
     "execution_count": 44,
     "metadata": {},
     "output_type": "execute_result"
    }
   ],
   "source": [
    "# Confirmando se os valores são iguais\n",
    "np.asarray(grads_autograd)  - np.asarray(grads)"
   ]
  },
  {
   "cell_type": "markdown",
   "metadata": {
    "id": "-1-DEMiXF5v7"
   },
   "source": [
    "Como as diferenças dos gradientes usando diferenças finitas ou autograd são aproximadamente zero, logo ambos métodos funcionam."
   ]
  },
  {
   "cell_type": "markdown",
   "metadata": {
    "id": "GulfYtzBMx2e"
   },
   "source": [
    "##Exercício 3.4\n",
    "\n",
    "Quais são as restrições na escolha dos valores de $\\Delta w$ no cálculo do gradiente por diferenças finitas?"
   ]
  },
  {
   "cell_type": "markdown",
   "metadata": {
    "id": "TXQGEyvtiTAR"
   },
   "source": [
    "Resposta: Teoricamente, $\\Delta w$ tem que ser diferente de zero. Além disso, um valor muito grande para $\\Delta w$ torna a estimativa do cálculo imprecisa e um valor muito pequeno tende para uma estimativa igual a zero."
   ]
  },
  {
   "cell_type": "markdown",
   "metadata": {
    "id": "WsrSF8GEiXk4"
   },
   "source": [
    "##Exercício 3.5\n",
    "\n",
    "Até agora trabalhamos com $w$ contendo apenas um parâmetro. Suponha agora que $w$ seja uma matriz com $N$ parâmetros e que o custo para executar $(x_i w - y_i)^2$ seja $O(N)$.\n",
    "> a) Qual é o custo computacional para fazer uma única atualização (um passo de gradiente) dos parâmetros de $w$ usando o método das diferencas finitas?\n",
    ">\n",
    "> b) Qual é o custo computacional para fazer uma única atualização (um passo de gradiente) dos parâmetros de $w$ usando o método do backpropagation?\n",
    "\n"
   ]
  },
  {
   "cell_type": "markdown",
   "metadata": {
    "id": "_4Pna3bcicHj"
   },
   "source": [
    "Resposta (justifique):\n",
    "\n",
    "a) Nesse caso seria $O(N^2)$, pois precisamos calcular $N$ parâmetros $N$ vezes.\n",
    "\n",
    "b) Nesse caso seria $O(N)$ porque enquanto fazemos o foward salvamos os gradientes parciais, logo conseguimos calcular o gradiente final percorrendo a rede de trás para frente (*backpropagation*) multiplicando os gradientes parciais (regra da cadeia). "
   ]
  },
  {
   "cell_type": "markdown",
   "metadata": {
    "id": "35I5w8EZdjIo"
   },
   "source": [
    "##Exercício 3.6\n",
    "\n",
    "Qual o custo (entropia cruzada) esperado para um exemplo (uma amostra) no começo do treinamento de um classificador inicializado aleatoriamente?\n",
    "\n",
    "A equação da entropia cruzada é:\n",
    "$$L = - \\sum_{j=0}^{K-1} y_j \\log p_j, $$\n",
    "Onde:\n",
    "\n",
    "- K é o número de classes;\n",
    "\n",
    "- $y_j=1$ se $j$ é a classe do exemplo (ground-truth), 0 caso contrário. Ou seja, $y$ é um vetor one-hot;\n",
    "\n",
    "- $p_j$ é a probabilidade predita pelo modelo para a classe $j$.\n",
    "\n",
    "A resposta tem que ser em função de uma ou mais das seguintes variáveis:\n",
    "\n",
    "- K = número de classes\n",
    "\n",
    "- B = batch size\n",
    "\n",
    "- D = dimensão de qualquer vetor do modelo\n",
    "\n",
    "- LR = learning rate"
   ]
  },
  {
   "cell_type": "markdown",
   "metadata": {
    "id": "swTOphiVs6eN"
   },
   "source": [
    "Resposta:\n",
    "\n",
    "\n",
    "No caso, como o classificador foi inicializado aleatoriamente, vamos supor que o *output* do classificador tem distribuição de probabilidade uniforme ao longo das classes, isso é, $p_j = \\frac{1}{K}$. Logo temos:\n",
    "\n",
    "$$L = - \\sum_{j=0}^{K-1} y_j \\log p_j = - \\sum_{j=0}^{K-1} y_j \\log \\frac{1}{K}$$\n",
    "\n",
    "No caso, como $y_j$ é um vetor *one-hot* temos que somente para uma classe existe valor tal que $y_j=1$. Logo temos:\n",
    "\n",
    "$$L = - \\sum_{j=0}^{K-1} y_j \\log \\frac{1}{K} = - \\log \\frac{1}{K} = -(\\log 1 - \\log K) = \\log K$$\n",
    "\n",
    "Assim sendo, o custo esperado para um exemplo no começo do treinamento é:\n",
    "\n",
    "$$\\log K$$\n"
   ]
  },
  {
   "cell_type": "markdown",
   "metadata": {
    "id": "3UNdHqgSB6S9"
   },
   "source": [
    "Fim do notebook."
   ]
  }
 ],
 "metadata": {
  "colab": {
   "collapsed_sections": [],
   "include_colab_link": true,
   "name": "Exercícios - 20210718",
   "provenance": []
  },
  "kernelspec": {
   "display_name": "Python 3 (ipykernel)",
   "language": "python",
   "name": "python3"
  },
  "language_info": {
   "codemirror_mode": {
    "name": "ipython",
    "version": 3
   },
   "file_extension": ".py",
   "mimetype": "text/x-python",
   "name": "python",
   "nbconvert_exporter": "python",
   "pygments_lexer": "ipython3",
   "version": "3.7.11"
  },
  "toc": {
   "base_numbering": 1,
   "nav_menu": {
    "height": "117px",
    "width": "252px"
   },
   "number_sections": true,
   "sideBar": true,
   "skip_h1_title": false,
   "title_cell": "Table of Contents",
   "title_sidebar": "Contents",
   "toc_cell": false,
   "toc_position": {},
   "toc_section_display": "block",
   "toc_window_display": false
  },
  "varInspector": {
   "cols": {
    "lenName": 16,
    "lenType": 16,
    "lenVar": 40
   },
   "kernels_config": {
    "python": {
     "delete_cmd_postfix": "",
     "delete_cmd_prefix": "del ",
     "library": "var_list.py",
     "varRefreshCmd": "print(var_dic_list())"
    },
    "r": {
     "delete_cmd_postfix": ") ",
     "delete_cmd_prefix": "rm(",
     "library": "var_list.r",
     "varRefreshCmd": "cat(var_dic_list()) "
    }
   },
   "types_to_exclude": [
    "module",
    "function",
    "builtin_function_or_method",
    "instance",
    "_Feature"
   ],
   "window_display": false
  }
 },
 "nbformat": 4,
 "nbformat_minor": 4
}
